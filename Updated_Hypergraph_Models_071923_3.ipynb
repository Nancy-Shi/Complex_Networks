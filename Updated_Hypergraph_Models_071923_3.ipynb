{
  "nbformat": 4,
  "nbformat_minor": 0,
  "metadata": {
    "colab": {
      "provenance": [],
      "authorship_tag": "ABX9TyMf+5GC6P9y04J2LrdL80mU",
      "include_colab_link": true
    },
    "kernelspec": {
      "name": "python3",
      "display_name": "Python 3"
    },
    "language_info": {
      "name": "python"
    }
  },
  "cells": [
    {
      "cell_type": "markdown",
      "metadata": {
        "id": "view-in-github",
        "colab_type": "text"
      },
      "source": [
        "<a href=\"https://colab.research.google.com/github/Nancy-Shi/Complex_Networks/blob/main/Updated_Hypergraph_Models_071923_3.ipynb\" target=\"_parent\"><img src=\"https://colab.research.google.com/assets/colab-badge.svg\" alt=\"Open In Colab\"/></a>"
      ]
    },
    {
      "cell_type": "code",
      "execution_count": null,
      "metadata": {
        "id": "nWAwC4nBwq94"
      },
      "outputs": [],
      "source": [
        "import numpy as np\n",
        "import matplotlib.pyplot as plt\n",
        "import networkx as nx\n",
        "import random\n",
        "import math as math\n",
        "from math import log\n",
        "import seaborn as sns\n",
        "import pandas as pd"
      ]
    },
    {
      "cell_type": "markdown",
      "source": [
        "## Part 1: Hypergraph Generation\n",
        "The following steps generate a hyper graph using the XGI/HyperNetX python package,  following power-law degree distribution for predifined number of nodes n, number of hyperedges num_hyper_edges, degree exponent gamma, using a configuration model with data stored in a dictionary."
      ],
      "metadata": {
        "id": "Xyq5fKGgRvLS"
      }
    },
    {
      "cell_type": "code",
      "source": [
        "# Step 1: Generate Degree Sequence\n",
        "def generate_degree_sequence(n, gamma, kmin):\n",
        "    # Generate a random set from the power law distribution\n",
        "    u = np.random.uniform(size=n)\n",
        "    degrees = np.ceil((1.0 - u) ** (-1.0 / (gamma - 1.0)))\n",
        "\n",
        "    # Adjust degrees based on the minimum and maximum degree values\n",
        "    kmax = int(np.sqrt(n))\n",
        "    # kmax = int(1.5*n**(1/4)) # max degree allowed is 1.5*n^(1/4)\n",
        "    degrees = degrees[(degrees >= kmin) & (degrees <= kmax)].astype(int)\n",
        "\n",
        "    # Truncate or pad the sequence to match the length specified\n",
        "    if len(degrees) >= n:\n",
        "        degrees = degrees[:n]\n",
        "    else:\n",
        "        degrees = np.concatenate((degrees, np.full(n - len(degrees), kmin)))\n",
        "\n",
        "    return degrees.tolist()\n",
        "\n",
        "# Step 2: Generate Hyper Edge Size Sequence\n",
        "def generate_hyper_edge_sizes(degrees, num_hyper_edges):\n",
        "    total_degrees = sum(degrees)\n",
        "    hyper_edge_sizes = []\n",
        "\n",
        "    # Calculate the average size for each hyper edge\n",
        "    avg_size = total_degrees // num_hyper_edges\n",
        "    remainder = total_degrees % num_hyper_edges\n",
        "\n",
        "    # Define the range for the random distribution\n",
        "    min_size = 1  # Lower bound of the range\n",
        "    max_size = len(degrees)-num_hyper_edges  # Upper bound of the range\n",
        "\n",
        "    # Generate hyper edge sizes\n",
        "    for _ in range(num_hyper_edges):\n",
        "        size = random.randint(min_size, max_size)\n",
        "        hyper_edge_sizes.append(size)\n",
        "\n",
        "    return hyper_edge_sizes\n",
        "\n",
        "\n",
        "# Step 3: Create Copies of Nodes\n",
        "def create_node_copies(degrees):\n",
        "    node_copies = []\n",
        "    for i, degree in enumerate(degrees):\n",
        "        for _ in range(degree):\n",
        "            node_copies.append(i)\n",
        "    return node_copies\n",
        "\n",
        "# Step 4: Create Copies of Hyper Edges\n",
        "def create_hyper_edge_copies(hyper_edge_sizes):\n",
        "    hyper_edge_copies = []\n",
        "    for i, size in enumerate(hyper_edge_sizes):\n",
        "        for _ in range(size):\n",
        "            hyper_edge_copies.append(i)\n",
        "    return hyper_edge_copies\n",
        "\n",
        "# Step 5: Randomly Pair Copies\n",
        "def randomly_pair_copies(node_copies, hyper_edge_copies):\n",
        "    random.shuffle(node_copies)\n",
        "    random.shuffle(hyper_edge_copies)\n",
        "    pairs = []\n",
        "    for i in range(len(node_copies)):\n",
        "        pairs.append((node_copies[i], hyper_edge_copies[i]))\n",
        "    return pairs\n",
        "\n",
        "# Step 6: Convert Bipartite Graph to A Hypergraph Dictionary\n",
        "def convert_to_hypergraph(pairs):\n",
        "    hypergraph = {}\n",
        "    for pair in pairs:\n",
        "        node, hyper_edge = pair\n",
        "        if hyper_edge in hypergraph:\n",
        "            hypergraph[hyper_edge].append(node)\n",
        "        else:\n",
        "            hypergraph[hyper_edge] = [node]\n",
        "    return hypergraph\n"
      ],
      "metadata": {
        "id": "28fBOcYoVWnk"
      },
      "execution_count": null,
      "outputs": []
    },
    {
      "cell_type": "code",
      "source": [
        "def build_hypergraph(n, gamma, kmin, num_hyper_edges):\n",
        "    # Step 1: Generate Degree Sequence\n",
        "    degrees = generate_degree_sequence(n, gamma, kmin)\n",
        "    print(\"Degree Sequence: \", degrees)\n",
        "\n",
        "    # Step 2: Generate Hyper Edge Size Sequence\n",
        "    hyper_edge_sizes = generate_hyper_edge_sizes(degrees, num_hyper_edges)\n",
        "    print(\"Hyper Edge Sizes: \", hyper_edge_sizes)\n",
        "\n",
        "    # Step 3: Create Copies of Nodes\n",
        "    node_copies = create_node_copies(degrees)\n",
        "\n",
        "    # Step 4: Create Copies of Hyper Edges\n",
        "    hyper_edge_copies = create_hyper_edge_copies(hyper_edge_sizes)\n",
        "\n",
        "    # Step 5: Randomly Pair Copies\n",
        "    pairs = randomly_pair_copies(node_copies, hyper_edge_copies)\n",
        "\n",
        "    # Step 6: Convert Bipartite Graph to Hypergraph\n",
        "    hyperedge_dict = convert_to_hypergraph(pairs)\n",
        "\n",
        "    # Print the resulting hypergraph\n",
        "    print(\"Hypergraph Dictionary: \", hyperedge_dict)\n",
        "\n",
        "    return degrees, hyperedge_dict\n"
      ],
      "metadata": {
        "id": "kXAQ0xwWn1c2"
      },
      "execution_count": null,
      "outputs": []
    },
    {
      "cell_type": "code",
      "source": [
        "!pip install hypernetx\n",
        "import hypernetx as hnx"
      ],
      "metadata": {
        "colab": {
          "base_uri": "https://localhost:8080/",
          "height": 941
        },
        "id": "9o27nzbonHwZ",
        "outputId": "18904a4a-1e0a-459a-a25c-9e8a671e1694"
      },
      "execution_count": null,
      "outputs": [
        {
          "output_type": "stream",
          "name": "stdout",
          "text": [
            "Collecting hypernetx\n",
            "  Downloading hypernetx-2.0.2-py3-none-any.whl (95 kB)\n",
            "\u001b[2K     \u001b[90m━━━━━━━━━━━━━━━━━━━━━━━━━━━━━━━━━━━━━━━━\u001b[0m \u001b[32m95.5/95.5 kB\u001b[0m \u001b[31m3.6 MB/s\u001b[0m eta \u001b[36m0:00:00\u001b[0m\n",
            "\u001b[?25hCollecting networkx<3.0,>=2.2 (from hypernetx)\n",
            "  Downloading networkx-2.8.8-py3-none-any.whl (2.0 MB)\n",
            "\u001b[2K     \u001b[90m━━━━━━━━━━━━━━━━━━━━━━━━━━━━━━━━━━━━━━━━\u001b[0m \u001b[32m2.0/2.0 MB\u001b[0m \u001b[31m33.8 MB/s\u001b[0m eta \u001b[36m0:00:00\u001b[0m\n",
            "\u001b[?25hCollecting numpy<2.0,>=1.24.0 (from hypernetx)\n",
            "  Downloading numpy-1.25.1-cp310-cp310-manylinux_2_17_x86_64.manylinux2014_x86_64.whl (17.6 MB)\n",
            "\u001b[2K     \u001b[90m━━━━━━━━━━━━━━━━━━━━━━━━━━━━━━━━━━━━━━━━\u001b[0m \u001b[32m17.6/17.6 MB\u001b[0m \u001b[31m40.2 MB/s\u001b[0m eta \u001b[36m0:00:00\u001b[0m\n",
            "\u001b[?25hRequirement already satisfied: scipy<2.0,>=1.1.0 in /usr/local/lib/python3.10/dist-packages (from hypernetx) (1.10.1)\n",
            "Requirement already satisfied: matplotlib>3.0 in /usr/local/lib/python3.10/dist-packages (from hypernetx) (3.7.1)\n",
            "Requirement already satisfied: scikit-learn>=0.20.0 in /usr/local/lib/python3.10/dist-packages (from hypernetx) (1.2.2)\n",
            "Requirement already satisfied: pandas>=1.5.3 in /usr/local/lib/python3.10/dist-packages (from hypernetx) (1.5.3)\n",
            "Collecting decorator>=5.1.1 (from hypernetx)\n",
            "  Downloading decorator-5.1.1-py3-none-any.whl (9.1 kB)\n",
            "Requirement already satisfied: contourpy>=1.0.1 in /usr/local/lib/python3.10/dist-packages (from matplotlib>3.0->hypernetx) (1.1.0)\n",
            "Requirement already satisfied: cycler>=0.10 in /usr/local/lib/python3.10/dist-packages (from matplotlib>3.0->hypernetx) (0.11.0)\n",
            "Requirement already satisfied: fonttools>=4.22.0 in /usr/local/lib/python3.10/dist-packages (from matplotlib>3.0->hypernetx) (4.41.0)\n",
            "Requirement already satisfied: kiwisolver>=1.0.1 in /usr/local/lib/python3.10/dist-packages (from matplotlib>3.0->hypernetx) (1.4.4)\n",
            "Requirement already satisfied: packaging>=20.0 in /usr/local/lib/python3.10/dist-packages (from matplotlib>3.0->hypernetx) (23.1)\n",
            "Requirement already satisfied: pillow>=6.2.0 in /usr/local/lib/python3.10/dist-packages (from matplotlib>3.0->hypernetx) (8.4.0)\n",
            "Requirement already satisfied: pyparsing>=2.3.1 in /usr/local/lib/python3.10/dist-packages (from matplotlib>3.0->hypernetx) (3.1.0)\n",
            "Requirement already satisfied: python-dateutil>=2.7 in /usr/local/lib/python3.10/dist-packages (from matplotlib>3.0->hypernetx) (2.8.2)\n",
            "Requirement already satisfied: pytz>=2020.1 in /usr/local/lib/python3.10/dist-packages (from pandas>=1.5.3->hypernetx) (2022.7.1)\n",
            "Requirement already satisfied: joblib>=1.1.1 in /usr/local/lib/python3.10/dist-packages (from scikit-learn>=0.20.0->hypernetx) (1.3.1)\n",
            "Requirement already satisfied: threadpoolctl>=2.0.0 in /usr/local/lib/python3.10/dist-packages (from scikit-learn>=0.20.0->hypernetx) (3.1.0)\n",
            "Requirement already satisfied: six>=1.5 in /usr/local/lib/python3.10/dist-packages (from python-dateutil>=2.7->matplotlib>3.0->hypernetx) (1.16.0)\n",
            "Installing collected packages: numpy, networkx, decorator, hypernetx\n",
            "  Attempting uninstall: numpy\n",
            "    Found existing installation: numpy 1.22.4\n",
            "    Uninstalling numpy-1.22.4:\n",
            "      Successfully uninstalled numpy-1.22.4\n",
            "  Attempting uninstall: networkx\n",
            "    Found existing installation: networkx 3.1\n",
            "    Uninstalling networkx-3.1:\n",
            "      Successfully uninstalled networkx-3.1\n",
            "  Attempting uninstall: decorator\n",
            "    Found existing installation: decorator 4.4.2\n",
            "    Uninstalling decorator-4.4.2:\n",
            "      Successfully uninstalled decorator-4.4.2\n",
            "\u001b[31mERROR: pip's dependency resolver does not currently take into account all the packages that are installed. This behaviour is the source of the following dependency conflicts.\n",
            "ipython 7.34.0 requires jedi>=0.16, which is not installed.\n",
            "moviepy 1.0.3 requires decorator<5.0,>=4.0.2, but you have decorator 5.1.1 which is incompatible.\n",
            "numba 0.56.4 requires numpy<1.24,>=1.18, but you have numpy 1.25.1 which is incompatible.\n",
            "tensorflow 2.12.0 requires numpy<1.24,>=1.22, but you have numpy 1.25.1 which is incompatible.\u001b[0m\u001b[31m\n",
            "\u001b[0mSuccessfully installed decorator-5.1.1 hypernetx-2.0.2 networkx-2.8.8 numpy-1.25.1\n"
          ]
        },
        {
          "output_type": "display_data",
          "data": {
            "application/vnd.colab-display-data+json": {
              "pip_warning": {
                "packages": [
                  "decorator",
                  "networkx",
                  "numpy"
                ]
              }
            }
          },
          "metadata": {}
        },
        {
          "output_type": "stream",
          "name": "stdout",
          "text": [
            " No module named 'igraph'. If you need to use hypernetx.algorithms.hypergraph_modularity, please install additional packages by running the following command: pip install .['all']\n"
          ]
        }
      ]
    },
    {
      "cell_type": "code",
      "source": [
        "# Test 1\n",
        "n =50  # Number of nodes\n",
        "gamma = 2.5  # Power-law exponent\n",
        "kmin = 3  # Minimum degree\n",
        "num_hyper_edges = 8  # Desired number of hyper edges\n",
        "\n",
        "degrees, hyperedge_dict = build_hypergraph(n, gamma, kmin, num_hyper_edges)\n",
        "# Plot the hypergraph\n",
        "H = hnx.Hypergraph(hyperedge_dict)\n",
        "plt.subplots(figsize=(5,5))\n",
        "hnx.draw(H)"
      ],
      "metadata": {
        "colab": {
          "base_uri": "https://localhost:8080/",
          "height": 494
        },
        "id": "aPYc6T2LZ93S",
        "outputId": "bf7b5b1a-4247-44e4-d722-a39f00de396d"
      },
      "execution_count": null,
      "outputs": [
        {
          "output_type": "stream",
          "name": "stdout",
          "text": [
            "Degree Sequence:  [3, 3, 3, 3, 3, 4, 3, 5, 3, 3, 4, 3, 3, 3, 3, 3, 3, 3, 3, 3, 3, 3, 3, 3, 3, 3, 3, 3, 3, 3, 3, 3, 3, 3, 3, 3, 3, 3, 3, 3, 3, 3, 3, 3, 3, 3, 3, 3, 3, 3]\n",
            "Hyper Edge Sizes:  [16, 30, 8, 19, 38, 19, 32, 35]\n",
            "Hypergraph Dictionary:  {1: [22, 10, 27, 22, 13, 18, 39, 15, 42, 26, 21, 42, 10, 23, 36, 14, 22, 40, 17, 0, 38, 29, 3, 46, 31, 8, 6, 0], 6: [47, 8, 7, 26, 27, 11, 44, 37, 34, 47, 48, 10, 17, 13, 38, 18, 28, 24, 43, 7, 1, 37, 14, 7, 4, 9, 38, 35], 7: [28, 40, 40, 16, 7, 30, 28, 21, 13, 49, 45, 44, 30, 41, 45, 39, 48, 16, 48, 41, 32, 31, 25, 8, 43, 0, 25, 36], 4: [23, 46, 47, 2, 15, 44, 24, 4, 2, 10, 31, 6, 49, 20, 5, 21, 18, 37, 11, 5, 29, 14, 9, 26], 5: [6, 45, 11, 20, 27, 4, 46, 16, 20, 1, 34, 33, 29, 15, 33, 3, 41], 3: [35, 19, 43, 32, 9, 30, 24, 12, 12, 7, 49, 32, 34], 2: [36, 39, 12, 5, 17, 2], 0: [19, 35, 1, 33, 42, 19, 3, 23, 25, 5]}\n"
          ]
        },
        {
          "output_type": "display_data",
          "data": {
            "text/plain": [
              "<Figure size 500x500 with 1 Axes>"
            ],
            "image/png": "[encoded data removed]"
          },
          "metadata": {}
        }
      ]
    },
    {
      "cell_type": "code",
      "source": [
        "# Test 2\n",
        "n2 =400  # Number of nodes\n",
        "gamma2 = 2.25  # Power-law exponent\n",
        "kmin2 = 3  # Minimum degree\n",
        "num_hyper_edges2 = 100  # Desired number of hyper edges\n",
        "\n",
        "degrees2, hyperedge_dict2 = build_hypergraph(n2, gamma2, kmin2, num_hyper_edges2)\n",
        "H2 = hnx.Hypergraph(hyperedge_dict2)"
      ],
      "metadata": {
        "colab": {
          "base_uri": "https://localhost:8080/"
        },
        "id": "v-5SpSrM3d5T",
        "outputId": "38f0b092-bdd5-4090-8b79-a829f2fa3693"
      },
      "execution_count": null,
      "outputs": [
        {
          "output_type": "stream",
          "name": "stdout",
          "text": [
            "Degree Sequence:  [3, 5, 4, 4, 4, 7, 3, 3, 14, 5, 5, 3, 4, 3, 4, 3, 3, 6, 6, 3, 8, 5, 4, 3, 3, 11, 3, 6, 6, 13, 4, 19, 14, 8, 8, 4, 4, 8, 5, 3, 4, 3, 7, 10, 15, 12, 3, 3, 13, 4, 4, 5, 3, 3, 3, 3, 4, 13, 13, 3, 4, 13, 3, 5, 3, 3, 4, 3, 6, 9, 3, 7, 4, 3, 19, 4, 4, 8, 4, 3, 4, 3, 16, 6, 3, 3, 9, 12, 3, 6, 3, 5, 6, 4, 3, 18, 3, 3, 11, 5, 3, 3, 3, 7, 3, 8, 5, 4, 6, 5, 7, 7, 5, 3, 3, 10, 6, 4, 3, 3, 6, 3, 3, 5, 3, 3, 4, 4, 3, 9, 5, 3, 3, 3, 3, 14, 11, 3, 3, 11, 3, 7, 10, 3, 14, 4, 7, 3, 3, 3, 11, 3, 4, 5, 3, 10, 3, 7, 4, 3, 3, 3, 3, 3, 3, 3, 3, 3, 3, 3, 3, 3, 3, 3, 3, 3, 3, 3, 3, 3, 3, 3, 3, 3, 3, 3, 3, 3, 3, 3, 3, 3, 3, 3, 3, 3, 3, 3, 3, 3, 3, 3, 3, 3, 3, 3, 3, 3, 3, 3, 3, 3, 3, 3, 3, 3, 3, 3, 3, 3, 3, 3, 3, 3, 3, 3, 3, 3, 3, 3, 3, 3, 3, 3, 3, 3, 3, 3, 3, 3, 3, 3, 3, 3, 3, 3, 3, 3, 3, 3, 3, 3, 3, 3, 3, 3, 3, 3, 3, 3, 3, 3, 3, 3, 3, 3, 3, 3, 3, 3, 3, 3, 3, 3, 3, 3, 3, 3, 3, 3, 3, 3, 3, 3, 3, 3, 3, 3, 3, 3, 3, 3, 3, 3, 3, 3, 3, 3, 3, 3, 3, 3, 3, 3, 3, 3, 3, 3, 3, 3, 3, 3, 3, 3, 3, 3, 3, 3, 3, 3, 3, 3, 3, 3, 3, 3, 3, 3, 3, 3, 3, 3, 3, 3, 3, 3, 3, 3, 3, 3, 3, 3, 3, 3, 3, 3, 3, 3, 3, 3, 3, 3, 3, 3, 3, 3, 3, 3, 3, 3, 3, 3, 3, 3, 3, 3, 3, 3, 3, 3, 3, 3, 3, 3, 3, 3, 3, 3, 3, 3, 3, 3, 3, 3, 3, 3, 3, 3, 3, 3, 3, 3, 3, 3, 3, 3, 3, 3, 3, 3]\n",
            "Hyper Edge Sizes:  [160, 31, 193, 284, 116, 53, 286, 201, 192, 4, 48, 153, 70, 152, 208, 60, 123, 296, 132, 214, 211, 8, 31, 78, 101, 297, 279, 262, 28, 127, 153, 223, 222, 211, 199, 250, 232, 149, 161, 275, 206, 93, 243, 251, 113, 19, 231, 281, 234, 29, 251, 3, 274, 218, 198, 175, 206, 199, 24, 207, 99, 37, 23, 237, 285, 84, 242, 222, 129, 207, 111, 151, 177, 45, 95, 207, 76, 181, 164, 68, 123, 91, 155, 188, 45, 226, 107, 129, 148, 44, 248, 282, 53, 15, 215, 180, 279, 5, 24, 187]\n",
            "Hypergraph Dictionary:  {46: [83, 31, 146, 276, 48, 57, 259, 381, 80, 214, 241, 252, 123, 127, 200, 83, 216, 295, 57, 64, 257, 398, 349, 307, 248, 300, 267, 176, 241, 61, 90], 53: [339, 396, 62, 20, 368, 121, 85, 12, 92, 99, 32, 246, 393, 86, 42, 98, 267, 90, 359, 14, 45, 388], 25: [110, 2, 274, 277, 149, 11, 51, 115, 143, 39, 256, 162, 111, 120, 311, 47, 74, 375, 140, 139, 28, 2, 122, 368, 351, 187, 40, 45, 222, 179, 227, 34], 17: [43, 363, 242, 73, 120, 25, 270, 87, 71, 195, 29, 281, 370, 133, 19, 276, 58, 48, 111, 209, 66, 87, 40, 295, 110, 283, 85, 48], 91: [229, 33, 335, 366, 344, 104, 86, 36, 232, 148, 49, 326, 396, 298, 194, 341, 74, 95, 380, 369, 192, 98, 10, 45, 129, 341, 29, 382, 115, 87, 316, 107, 21, 275], 47: [292, 81, 270, 276, 102, 363, 234, 231, 105, 166, 112, 44, 20, 105, 5, 268, 8, 286, 190, 275, 23, 58, 229, 51, 232, 44, 246, 57, 46, 198, 256], 19: [187, 115, 79, 323, 293, 76, 86, 336, 193, 38, 95, 155, 128, 369, 61, 279, 355, 69, 167, 149, 324, 135, 87, 17, 150], 59: [16, 260, 115, 362, 78, 91, 144, 8, 22, 160, 49, 336, 394, 98, 302, 44, 389, 25], 2: [267, 367, 109, 60, 288, 215, 64, 20, 130, 272, 80, 162, 95, 141, 257, 213, 75, 92, 296, 41, 200, 160, 228], 31: [168, 95, 26, 169, 383, 150, 235, 178, 315, 9, 125, 277, 184, 177, 95, 64, 328, 240, 79, 210, 303, 195, 118], 16: [142, 126, 159, 89, 28, 355, 21, 120, 68, 57, 394, 255, 47, 74, 103, 250, 94, 194], 7: [44, 1, 44, 290, 13, 137, 273, 200, 366, 153, 213, 102, 260, 109, 253, 153, 169, 1, 61, 238, 62, 67], 5: [343, 28, 375, 319, 394, 48], 44: [37, 18, 7, 172, 77, 307, 68, 31, 41, 272, 34, 125, 322, 169], 65: [33, 287, 372, 165, 33, 360, 8], 94: [376, 95, 315, 139, 42, 129, 119, 255, 150, 60, 10, 360, 44, 111, 286, 95, 38, 251, 338, 331, 158, 30, 29, 55], 54: [223, 31, 176, 353, 135, 161, 120, 93, 115, 242, 325, 233, 229, 145, 50, 89, 98, 58, 199, 159, 71], 67: [61, 193, 37, 110, 142, 61, 116, 173, 266, 393, 71, 214, 53, 31, 196, 292, 314, 197, 92, 173, 55, 143, 373, 344, 293, 171, 285, 183, 89, 115], 24: [316, 157, 91, 183, 395, 71, 150, 81, 262, 202, 141, 383, 114], 50: [251, 33, 254, 202, 279, 168, 82, 139, 224, 323, 115, 346, 206, 0, 137, 152, 288, 166, 141, 185, 48, 48, 82, 43, 250, 73, 11, 184, 343], 72: [304, 156, 388, 196, 371, 73, 157, 266, 109, 381, 48, 135, 32, 58, 357, 34, 38, 281, 159, 109], 3: [130, 95, 66, 342, 245, 349, 129, 331, 310, 329, 183, 11, 244, 291, 122, 290, 131, 68, 4, 8, 300, 256, 356, 106, 205, 93, 175, 129, 107, 21, 241, 142], 32: [227, 120, 134, 7, 66, 51, 84, 136, 130, 358, 69, 288, 58, 172, 239, 307, 134, 382, 149, 202, 22, 346, 57, 136, 397, 333, 262, 42, 127], 90: [367, 330, 191, 81, 2, 186, 230, 124, 240, 361, 296, 237, 74, 108, 87, 74, 166, 3, 55, 345, 138, 289, 386, 52, 84, 56], 42: [74, 12, 75, 148, 395, 258, 278, 220, 61, 383, 6, 25, 234, 45, 283, 297, 208, 324, 121, 247, 340, 20, 57, 320, 396], 11: [232, 217, 136, 54, 356, 35, 379, 27, 397, 162, 277, 5, 54, 57, 56, 111], 56: [205, 350, 376, 207, 249, 32, 63, 210, 37, 330, 302, 219, 170, 32, 18, 388, 349, 145, 12, 82], 80: [188, 201, 359, 128, 58, 249, 50, 130, 141, 398], 75: [31, 110, 151, 136, 17, 88, 42, 106, 63, 35, 144, 33, 27, 77, 211, 187, 155, 146, 99, 117, 76, 308], 33: [32, 313, 377, 219, 372, 31, 82, 92, 8, 78, 364, 139, 233, 45, 261, 305], 64: [367, 45, 71, 119, 327, 144, 15, 382, 13, 254, 127, 61, 290, 262, 165, 173, 77, 269, 87, 43, 34, 178], 66: [8, 265, 189, 153, 98, 175, 347, 31, 69, 98, 150, 91, 384, 193, 110, 136, 78, 158, 253, 42, 312, 331, 57, 49, 69], 63: [386, 164, 34, 366, 350, 1, 28, 103, 42, 105, 289, 150, 141, 157, 138, 60, 33, 17, 3, 338, 18, 36, 254, 32, 342, 259, 284], 74: [245, 392, 199, 5, 197, 359, 23, 260, 351, 75, 342, 87, 360], 20: [123, 385, 140, 306, 147, 43, 298, 223, 378, 339, 261, 146, 264, 135, 94, 57, 362, 231, 150, 135, 32, 221, 208, 216, 160, 387], 84: [25, 363, 123, 322, 103], 88: [362, 390, 17, 25, 170, 86, 319, 313, 264, 265], 85: [299, 387, 0, 335, 41, 150, 299, 385, 45, 371, 37, 44, 337, 179, 112, 113, 368, 69, 164], 14: [220, 209, 103, 108, 185, 74, 379, 189, 144, 76, 99, 345, 171, 325, 19, 105, 63, 300, 140, 345, 305], 29: [139, 32, 158, 275, 27, 281], 39: [157, 110, 390, 43, 181, 170, 135, 129, 10, 37, 378, 106, 151, 239, 354, 191, 203, 10, 320, 271, 93, 118, 174, 18, 44, 205, 3, 136, 171, 155, 126, 297, 66, 108, 316, 31, 158], 6: [104, 20, 108, 263, 58, 144, 163, 86, 112, 18, 135, 155, 305, 258, 357, 8, 330, 147, 32, 14, 102, 358, 274, 355, 233, 156, 105, 2, 69, 87, 191, 309, 139, 246], 79: [332, 108, 332, 373, 116], 35: [235, 82, 82, 68, 317, 280, 26, 29, 391, 180, 381, 310, 88, 329, 329, 25, 163, 211, 284, 112, 150, 45, 32], 83: [192, 28, 74, 44, 31, 65, 177, 36, 32, 259, 243, 268, 252, 56, 34, 87, 154, 72, 133, 4, 203, 236, 52, 37], 48: [36, 212, 195, 48, 132, 365, 391, 297, 25, 126, 212, 111, 48, 270, 353, 27, 146, 385, 24, 164, 255, 261, 43, 136, 213, 294, 197], 99: [31, 115, 258, 356, 74, 335, 53, 38, 98, 67, 221, 8, 389, 178, 29, 348, 222, 44, 78, 83, 19], 96: [134, 82, 83, 52, 82, 182, 43, 174, 289, 77, 263, 17, 43, 142, 76, 324, 365, 312, 175, 144, 144, 271, 198, 95, 115, 60, 45, 122, 70, 337, 43, 135, 291], 57: [301, 61, 47, 108, 98, 167, 5, 181, 156, 312, 82, 201, 361, 299, 8, 326, 146, 151], 40: [34, 129, 186, 395, 96, 348, 155, 138, 75, 155, 313, 17, 352, 163, 32, 376, 72, 62], 52: [338, 225, 51, 327, 374, 379, 33, 155, 212, 74, 278, 371, 135, 145, 95, 53, 309, 319, 26, 95, 54, 314, 136, 71, 65, 236], 77: [334, 221, 203, 50, 128, 188, 190, 95, 152, 161, 83, 116, 370, 51, 110, 207, 294, 231, 74, 333, 15, 77, 99], 26: [139, 384, 389, 61, 5, 31, 96, 6, 58, 279, 234, 334, 154, 146, 248, 107, 357, 112, 44, 182, 29, 4, 87, 97, 177, 142, 38, 141, 29, 236, 21, 139, 129, 230], 78: [226, 237, 129, 49, 114, 44, 22, 273, 393, 219, 116, 303, 100], 30: [72, 13, 380, 74, 136, 105, 218, 209, 7, 39, 144, 57, 333], 0: [137, 321, 387, 1, 311, 9, 35, 217, 9, 273, 114, 354, 293, 309], 89: [240, 318, 29, 238, 317], 86: [327, 27, 321, 48, 196, 31, 74, 14, 123], 70: [105, 176, 29, 10, 135, 165, 74, 206, 67, 30, 334, 142, 57, 252, 83], 82: [0, 70, 243, 250, 225, 146, 216, 59, 188, 58, 301, 224, 397], 37: [271, 124, 31, 77, 100, 226, 145, 135, 126, 74, 287, 344, 303, 79, 57, 155, 341], 60: [56, 269, 8, 101, 4, 6, 89, 298, 150, 325, 131, 44, 109, 147, 310], 55: [287, 50, 135, 392, 210, 68, 172, 113, 337, 155, 369, 40, 127, 306, 12, 139, 222, 399, 111, 190, 92], 41: [215, 82, 264, 86, 358, 8, 274, 29, 186, 40, 91, 301, 135, 237, 161], 87: [124, 182, 58, 105, 206, 323, 120, 315, 45, 90, 296, 121], 95: [29, 82, 8, 143, 224, 139, 31, 23, 291, 116, 144, 185, 130, 350, 5, 180, 377], 27: [69, 311, 364, 92, 95, 245, 1, 29, 386, 280, 239, 94, 107, 272, 346, 322, 263, 5, 115, 318, 117, 215, 106, 304, 306, 116, 8, 228, 99, 144, 97, 340, 317, 282, 96], 69: [339, 392, 332, 211, 141, 251, 280, 74, 228, 113, 3, 65, 80, 152, 61, 25, 155, 142, 390, 59, 31, 86, 58], 38: [295, 80, 86, 354, 184, 214, 204, 27, 68, 45, 37, 375, 269, 157], 34: [46, 144, 352, 117, 61, 77, 111, 238, 25, 189, 44, 45, 248, 16, 199, 378, 9, 37, 343, 179, 69, 321, 48, 125], 22: [129, 103, 204, 223], 43: [347, 61, 42, 8, 148, 74, 353, 82, 135, 24, 268, 253, 142, 101, 34, 93, 294, 77], 98: [314, 365, 218, 152], 51: [57], 36: [194, 28, 136, 82, 46, 198, 82, 144, 132, 150, 348, 58, 377, 48, 103, 133, 100], 61: [82, 29, 220, 347, 302], 68: [33, 20, 31, 282, 304, 242, 399, 374, 88], 15: [157, 91, 98], 18: [285, 106, 308, 207, 9, 87, 278, 249, 153, 286, 265, 266, 72], 49: [208, 328, 85, 230], 71: [31, 89, 391, 39, 95, 351, 374, 192, 142, 70, 285, 167, 218, 136, 20, 95, 168, 174, 225, 361], 62: [101, 257], 23: [372, 370, 131, 74, 69, 292], 12: [30, 32, 117, 227, 308, 74], 58: [15, 25], 8: [43, 14, 282, 352, 157, 399, 144, 20, 21, 22, 87, 153, 104, 144, 63], 13: [32, 283, 95, 35, 18, 247, 336, 398, 204, 235, 364, 44, 63], 28: [16, 97, 71], 81: [201, 24, 226, 58, 180, 328, 217], 10: [95, 244, 119, 48, 89, 123], 93: [59, 340], 4: [118, 284, 61, 247, 98, 139], 45: [154, 132, 181, 384], 76: [326, 31, 95, 98, 244], 73: [31, 320, 380, 103, 82], 21: [142, 84], 1: [243, 30, 86], 92: [25, 373, 318]}\n"
          ]
        }
      ]
    },
    {
      "cell_type": "code",
      "source": [
        "# Test 3\n",
        "n3 =400  # Number of nodes\n",
        "gamma3 = 2.5  # Power-law exponent\n",
        "kmin3 = 3  # Minimum degree\n",
        "num_hyper_edges3 = 100  # Desired number of hyper edges\n",
        "\n",
        "degrees3, hyperedge_dict3 = build_hypergraph(n3, gamma3, kmin3, num_hyper_edges3)\n",
        "H3 = hnx.Hypergraph(hyperedge_dict3)"
      ],
      "metadata": {
        "colab": {
          "base_uri": "https://localhost:8080/"
        },
        "id": "yYtElYSXhk-F",
        "outputId": "996660c8-d6be-47db-9a04-63423fe9a4cf"
      },
      "execution_count": null,
      "outputs": [
        {
          "output_type": "stream",
          "name": "stdout",
          "text": [
            "Degree Sequence:  [4, 8, 5, 3, 3, 5, 3, 6, 3, 3, 3, 3, 10, 6, 3, 4, 4, 3, 6, 4, 4, 4, 3, 4, 14, 3, 3, 10, 5, 3, 6, 8, 6, 3, 3, 3, 3, 13, 6, 3, 6, 3, 3, 4, 17, 9, 3, 5, 3, 3, 4, 3, 3, 9, 4, 3, 8, 3, 3, 3, 3, 3, 3, 3, 3, 3, 6, 11, 3, 4, 6, 9, 3, 11, 4, 9, 4, 3, 3, 3, 15, 3, 7, 4, 3, 3, 3, 5, 3, 3, 4, 8, 5, 5, 3, 3, 4, 5, 3, 3, 15, 3, 5, 3, 3, 5, 3, 3, 5, 5, 11, 7, 4, 4, 3, 3, 4, 3, 4, 3, 7, 3, 3, 7, 3, 10, 6, 3, 3, 3, 3, 3, 3, 3, 3, 3, 3, 3, 3, 3, 3, 3, 3, 3, 3, 3, 3, 3, 3, 3, 3, 3, 3, 3, 3, 3, 3, 3, 3, 3, 3, 3, 3, 3, 3, 3, 3, 3, 3, 3, 3, 3, 3, 3, 3, 3, 3, 3, 3, 3, 3, 3, 3, 3, 3, 3, 3, 3, 3, 3, 3, 3, 3, 3, 3, 3, 3, 3, 3, 3, 3, 3, 3, 3, 3, 3, 3, 3, 3, 3, 3, 3, 3, 3, 3, 3, 3, 3, 3, 3, 3, 3, 3, 3, 3, 3, 3, 3, 3, 3, 3, 3, 3, 3, 3, 3, 3, 3, 3, 3, 3, 3, 3, 3, 3, 3, 3, 3, 3, 3, 3, 3, 3, 3, 3, 3, 3, 3, 3, 3, 3, 3, 3, 3, 3, 3, 3, 3, 3, 3, 3, 3, 3, 3, 3, 3, 3, 3, 3, 3, 3, 3, 3, 3, 3, 3, 3, 3, 3, 3, 3, 3, 3, 3, 3, 3, 3, 3, 3, 3, 3, 3, 3, 3, 3, 3, 3, 3, 3, 3, 3, 3, 3, 3, 3, 3, 3, 3, 3, 3, 3, 3, 3, 3, 3, 3, 3, 3, 3, 3, 3, 3, 3, 3, 3, 3, 3, 3, 3, 3, 3, 3, 3, 3, 3, 3, 3, 3, 3, 3, 3, 3, 3, 3, 3, 3, 3, 3, 3, 3, 3, 3, 3, 3, 3, 3, 3, 3, 3, 3, 3, 3, 3, 3, 3, 3, 3, 3, 3, 3, 3, 3, 3, 3, 3, 3, 3, 3, 3, 3, 3, 3, 3, 3, 3, 3, 3, 3, 3, 3]\n",
            "Hyper Edge Sizes:  [277, 220, 21, 266, 57, 127, 67, 5, 272, 80, 12, 231, 193, 223, 290, 98, 27, 215, 199, 136, 32, 124, 232, 190, 155, 25, 199, 35, 119, 231, 257, 84, 196, 68, 265, 102, 276, 230, 253, 144, 45, 9, 265, 291, 254, 234, 254, 21, 300, 75, 265, 104, 229, 294, 272, 191, 138, 285, 139, 162, 260, 6, 58, 17, 271, 225, 156, 281, 214, 182, 251, 242, 99, 294, 5, 269, 116, 20, 63, 60, 53, 243, 270, 24, 108, 42, 136, 160, 118, 175, 195, 201, 53, 231, 169, 207, 159, 272, 107, 249]\n",
            "Hypergraph Dictionary:  {27: [336, 75, 352, 151, 110, 248, 303], 43: [330, 69, 398, 19, 24, 50, 252, 25, 131, 70, 282, 395, 197, 37, 137, 294, 92, 28, 313, 37, 236, 397, 108, 34, 99, 37, 13, 66, 171], 87: [93, 75, 30, 153, 73, 329, 45, 132, 177], 57: [313, 196, 126, 141, 170, 372, 111, 44, 251, 17, 4, 37, 1, 44, 64, 37, 289, 24, 289, 44, 255, 381, 158, 377, 322, 89], 13: [333, 175, 103, 39, 244, 234, 349, 51, 123, 130, 100, 376, 167, 287, 374, 80, 335, 213, 45, 299, 40, 42, 21, 399, 7], 34: [217, 18, 54, 93, 250, 187, 372, 48, 343, 15, 212, 283, 222, 271, 239, 100, 71, 101, 223, 265, 342, 232, 167, 348, 372, 334, 38, 249, 74, 67, 160, 69, 392, 247, 84], 51: [227, 350], 75: [399, 220, 91, 364, 41, 24, 125, 67, 388, 331, 377, 56, 132, 157, 1, 29, 96, 283, 183, 389, 207, 191, 337, 305, 145], 8: [40, 285, 291, 181, 274, 54, 335, 210, 70, 88, 36, 265, 386, 40, 251, 139, 78, 145, 20], 69: [97, 60, 148, 366, 91, 102, 118, 92, 148, 110, 63, 356, 73, 22], 18: [195, 35, 77, 67, 164, 18, 310, 102, 229, 118, 327, 380, 155, 275], 36: [320, 279, 175, 109, 385, 209, 101, 275, 303, 122, 80, 62, 30, 63, 339, 152, 119, 243, 41, 308, 117, 22, 75, 384, 25], 1: [138, 263, 5, 185, 317, 54, 270, 263, 7, 79, 110, 47, 76, 310, 66, 8, 2, 35, 107, 154, 368, 45], 96: [75, 273, 192, 90, 363, 12, 12, 206, 225, 94], 23: [255, 270, 238, 277, 89, 290, 24, 152, 183, 80, 88, 67, 12, 142, 284, 24, 44, 195, 213], 19: [348, 91, 259, 72, 89, 304, 295, 136, 381, 277, 93, 202, 157, 17, 56], 81: [337, 140, 136, 228, 13, 355, 154, 159, 356, 53, 365, 0, 150, 258, 357, 73, 396], 17: [110, 32, 90, 390, 332, 136, 125, 15, 169, 242, 9, 26, 287, 109, 331, 215, 64, 75], 58: [182, 242, 307, 82, 188, 16, 96, 106], 84: [159, 238, 143, 80, 222, 37, 62, 367, 395, 291], 67: [72, 123, 68, 134, 158, 73, 144, 390, 40, 47, 268, 19, 286, 65, 92, 237, 349, 245, 161, 398, 200, 113, 357, 394, 199, 85, 168, 324, 4, 105], 42: [323, 146, 263, 156, 46, 282, 66, 344, 80, 267, 177, 80, 123, 285], 5: [382, 104, 385, 367, 86, 311, 340, 12], 70: [380, 110, 317, 79, 31, 30, 306, 117, 23, 307, 389, 120, 228, 208, 67, 293, 120, 110, 221, 392, 73], 30: [240, 207, 102, 38, 215, 345, 9, 214, 93, 157, 70, 216, 46, 331, 304, 19, 322, 24, 37, 198, 361, 309, 84, 123, 261, 124, 264], 54: [193, 233, 364, 338, 326, 27, 344, 171, 73, 271, 48, 83, 227, 72, 91, 180, 323, 310, 53, 393, 147, 128, 112, 120, 284, 21, 78, 18, 194], 50: [27, 376, 115, 7, 247, 182, 235, 37, 180, 116, 339, 71, 113, 82, 31, 218, 5, 58, 186, 113, 166], 55: [391, 356, 189, 256, 13, 378, 315, 100, 38, 80, 3, 203, 124, 118, 188], 14: [85, 209, 126, 92, 44, 321, 184, 204, 88, 13, 106, 100, 55, 145, 201, 18, 26, 149, 109, 199, 26, 125, 3, 260, 39, 31, 205, 66, 198], 21: [127, 32, 330, 246, 53, 306, 366, 111, 393, 166, 56], 26: [309, 169, 277, 207, 74, 51, 181, 241, 293, 176, 123, 237, 81, 79, 147, 87, 132, 55, 192, 87, 167, 27], 89: [214, 1, 100, 6, 0, 114, 45, 11, 1, 6, 116, 103, 102, 151, 12, 80, 33, 151, 193, 67, 66, 304], 71: [260, 70, 44, 308, 201, 245, 80, 5, 30, 247, 87, 66, 71, 338, 178, 121, 274, 353, 80, 64, 283, 16, 229, 249, 318], 93: [360, 300, 83, 59, 399, 7, 371, 21, 264, 185, 31, 341, 296, 103], 80: [350, 67, 397, 115, 59], 73: [150, 189, 2, 174, 160, 135, 299, 129, 302, 208, 75, 31, 18, 12, 75, 264, 203, 392, 100, 348, 52, 23, 91, 31, 95, 218, 31, 44, 44, 100], 72: [124, 363, 40, 385, 25, 58, 139, 32, 27, 377, 31], 39: [332, 100, 199, 18, 236, 295, 7, 37, 222, 239, 37], 24: [57, 59, 14, 379, 334, 307, 162, 182, 229, 53, 133, 135, 51, 118, 328, 220, 90], 22: [239, 11, 333, 315, 19, 49, 44, 87, 383, 325, 15, 108, 194, 315, 370, 181, 125, 33, 73, 37, 98, 22, 262, 97, 224, 61, 28, 379], 48: [45, 253, 246, 224, 216, 38, 232, 3, 314, 100, 325, 0, 340, 111, 143, 27, 347, 98, 373, 362, 278, 36, 391, 246, 319, 337, 196, 142, 168], 68: [326, 276, 56, 61, 149, 173, 24, 286, 109, 164, 301, 12, 266, 202, 1, 231, 107, 355, 100, 155, 179, 100, 250, 320, 205, 211, 311], 90: [359, 111, 365, 330, 2, 130, 240, 346, 120, 204, 140, 42, 320, 219, 301, 159, 128, 110, 11], 46: [13, 353, 41, 324, 312, 211, 152, 81, 35, 223, 53, 112, 73, 381, 354, 354, 352, 180, 73, 354], 77: [56, 131], 12: [257, 68, 141, 396, 80, 105, 120, 212, 249, 231, 102, 67, 43, 212, 276, 253, 205, 325, 324], 52: [206, 76, 117, 268, 140, 49, 382, 108, 387, 47, 173, 110, 292, 114, 111, 388], 95: [97, 44, 172, 226, 210, 290, 267, 191, 233, 236, 266, 289, 8, 126, 24, 197, 375, 375, 341, 67], 11: [4, 176, 397, 252, 301, 75, 308, 137, 9, 80, 171, 305, 110, 262, 12, 393, 209], 44: [100, 319, 173, 245, 373, 347, 346, 142, 20, 77, 163, 71, 380, 241, 20, 16, 350, 129, 382, 14, 133, 234, 197, 275, 259, 121], 64: [12, 86, 137, 138, 244, 234, 74, 273, 92, 378, 231, 45, 226, 201, 39, 250, 386, 65, 294], 99: [200, 281, 269, 298, 141, 296, 355, 228, 367, 378, 336, 341, 297, 126, 225, 8, 52, 241, 44], 62: [342, 216, 226], 35: [280, 86, 368, 200, 168, 326], 66: [71, 27, 21, 65, 30, 82, 261, 28, 105, 309, 52, 10, 23], 92: [125, 174, 32, 53], 45: [125, 37, 371, 329, 144, 204, 282, 133, 82, 116, 125, 40, 125, 146, 296, 170, 134, 295, 96, 55, 335, 56, 215, 237], 15: [100, 328, 162, 210, 83, 351, 259, 248], 97: [269, 37, 225, 56, 362, 190, 71, 50, 177, 192, 14, 5, 71, 127, 313, 111, 189, 108, 33, 213, 99, 211, 376, 258, 327], 60: [74, 278, 379, 36, 319, 230, 154, 261, 396, 98, 278, 16, 306, 158, 332, 161, 269], 65: [290, 388, 303, 223, 2, 362, 345, 349, 76, 188, 292, 273, 56, 360, 235, 345, 163, 122, 76, 91, 112, 338, 95], 76: [107, 232, 312, 281, 175, 24], 94: [383, 254, 178, 185, 272, 198, 391, 123, 280, 184], 53: [27, 67, 163, 121, 62, 194, 254, 270, 85, 359, 150, 288, 395, 110, 47, 187, 68, 242], 9: [50, 374, 176, 271, 193, 166, 125, 322, 336, 123], 32: [162, 61, 267, 386, 281, 54, 280, 321, 28, 134, 220, 375, 311, 90, 329, 384, 82, 291, 361, 257, 93, 369, 104], 59: [57, 46, 170, 230, 317, 187, 359, 352, 360, 43, 366, 126, 45, 1, 101], 29: [94, 208, 73, 160, 364, 256, 44, 323, 255, 30, 24, 343, 257, 53, 365, 169, 195, 53, 351, 316, 108, 318, 274, 202, 6, 53, 27], 78: [398, 60, 318, 285], 98: [119, 82, 302, 81, 343, 258, 390, 206, 42, 252], 20: [105, 351, 119, 129], 28: [113, 63, 106, 251, 217, 77, 328, 24], 91: [71, 174, 305, 131, 294, 358, 191, 115, 75, 333, 45, 217, 47, 224, 148], 3: [265, 244, 57, 69, 91, 370, 172, 50, 219, 387, 260, 161, 138, 165, 20, 10, 96, 312, 358, 389, 146], 83: [130], 82: [105, 49, 383, 44, 235, 219, 374, 178, 29, 110, 243, 17, 373, 292, 44, 32, 155, 299, 369, 284, 164, 203, 316], 33: [279, 361, 243, 135, 24, 94, 230, 91, 300], 0: [7, 27, 394, 100, 268, 34, 80, 233, 272, 276, 120, 80, 127, 28, 186, 227, 190, 84, 1, 344, 165, 43, 87, 156, 48], 38: [156, 143, 327, 27, 314, 339, 368, 71, 369, 358, 44, 371, 190, 147, 272, 316, 104], 86: [262, 114, 109, 287, 80, 238, 314, 298, 302, 69, 353, 334, 179], 49: [321, 300, 126, 347, 186, 384, 297, 100, 38, 248], 37: [221, 5, 99, 116, 298, 111, 387, 346, 45, 32, 240, 112, 179, 196, 78, 95, 1, 165, 70], 56: [97, 13, 29, 253, 221, 214, 122, 184, 254], 79: [183, 44, 149, 288, 24], 85: [44, 279, 24, 2], 16: [172, 357], 6: [297, 23, 83, 12, 58, 38, 43, 340, 97], 2: [60], 31: [82, 34, 10, 370, 286], 88: [153, 0, 128, 394, 120, 144, 363, 139], 4: [342, 67], 40: [288], 25: [256, 125], 10: [73, 153], 47: [218, 266], 41: [293, 15], 61: [70]}\n"
          ]
        }
      ]
    },
    {
      "cell_type": "code",
      "source": [
        "# Test 4\n",
        "n4 =400  # Number of nodes\n",
        "gamma4 = 2.75  # Power-law exponent\n",
        "kmin4 = 3  # Minimum degree\n",
        "num_hyper_edges4 = 100  # Desired number of hyper edges\n",
        "\n",
        "degrees4, hyperedge_dict4 = build_hypergraph(n4, gamma4, kmin4, num_hyper_edges4)\n",
        "H4 = hnx.Hypergraph(hyperedge_dict4)\n"
      ],
      "metadata": {
        "colab": {
          "base_uri": "https://localhost:8080/"
        },
        "id": "CYFJI2qAuWYX",
        "outputId": "2ba84ea8-0dd5-4ec7-d61a-e823831f8f14"
      },
      "execution_count": null,
      "outputs": [
        {
          "output_type": "stream",
          "name": "stdout",
          "text": [
            "Degree Sequence:  [6, 3, 4, 5, 3, 3, 5, 3, 3, 12, 17, 6, 4, 3, 3, 3, 11, 4, 10, 10, 4, 3, 3, 5, 5, 8, 8, 13, 5, 4, 3, 4, 3, 16, 3, 4, 3, 3, 3, 3, 3, 4, 4, 3, 9, 3, 4, 7, 4, 3, 3, 5, 11, 4, 5, 3, 3, 5, 4, 3, 8, 3, 3, 4, 5, 7, 4, 4, 3, 4, 3, 5, 10, 4, 4, 3, 3, 3, 4, 3, 4, 3, 4, 3, 3, 5, 6, 3, 7, 3, 3, 3, 5, 3, 3, 3, 3, 7, 3, 3, 3, 5, 19, 4, 3, 3, 7, 5, 5, 4, 3, 4, 3, 4, 5, 3, 9, 6, 5, 3, 4, 3, 3, 3, 3, 3, 3, 3, 3, 3, 3, 3, 3, 3, 3, 3, 3, 3, 3, 3, 3, 3, 3, 3, 3, 3, 3, 3, 3, 3, 3, 3, 3, 3, 3, 3, 3, 3, 3, 3, 3, 3, 3, 3, 3, 3, 3, 3, 3, 3, 3, 3, 3, 3, 3, 3, 3, 3, 3, 3, 3, 3, 3, 3, 3, 3, 3, 3, 3, 3, 3, 3, 3, 3, 3, 3, 3, 3, 3, 3, 3, 3, 3, 3, 3, 3, 3, 3, 3, 3, 3, 3, 3, 3, 3, 3, 3, 3, 3, 3, 3, 3, 3, 3, 3, 3, 3, 3, 3, 3, 3, 3, 3, 3, 3, 3, 3, 3, 3, 3, 3, 3, 3, 3, 3, 3, 3, 3, 3, 3, 3, 3, 3, 3, 3, 3, 3, 3, 3, 3, 3, 3, 3, 3, 3, 3, 3, 3, 3, 3, 3, 3, 3, 3, 3, 3, 3, 3, 3, 3, 3, 3, 3, 3, 3, 3, 3, 3, 3, 3, 3, 3, 3, 3, 3, 3, 3, 3, 3, 3, 3, 3, 3, 3, 3, 3, 3, 3, 3, 3, 3, 3, 3, 3, 3, 3, 3, 3, 3, 3, 3, 3, 3, 3, 3, 3, 3, 3, 3, 3, 3, 3, 3, 3, 3, 3, 3, 3, 3, 3, 3, 3, 3, 3, 3, 3, 3, 3, 3, 3, 3, 3, 3, 3, 3, 3, 3, 3, 3, 3, 3, 3, 3, 3, 3, 3, 3, 3, 3, 3, 3, 3, 3, 3, 3, 3, 3, 3, 3, 3, 3, 3, 3, 3, 3, 3, 3, 3, 3, 3, 3, 3, 3, 3, 3, 3, 3, 3, 3, 3]\n",
            "Hyper Edge Sizes:  [147, 299, 145, 271, 160, 283, 61, 157, 45, 196, 122, 108, 251, 63, 138, 117, 108, 251, 27, 99, 44, 230, 94, 134, 107, 223, 224, 162, 102, 238, 165, 157, 189, 80, 105, 167, 191, 168, 118, 251, 110, 98, 12, 132, 80, 255, 79, 169, 231, 45, 173, 57, 168, 36, 199, 214, 189, 39, 50, 247, 152, 174, 282, 50, 266, 166, 214, 206, 295, 119, 28, 145, 70, 21, 158, 236, 157, 4, 275, 175, 47, 239, 213, 203, 115, 34, 249, 19, 243, 235, 211, 261, 99, 184, 290, 265, 165, 41, 70, 74]\n",
            "Hypergraph Dictionary:  {1: [12, 113, 277, 173, 16, 103, 241, 102, 52, 160, 362, 183, 102, 353, 10, 80, 49, 64, 139, 80, 149, 301, 294, 272, 10, 286, 360, 222, 203, 26, 42, 277, 10], 94: [102, 113, 102, 171, 4, 231, 31, 227, 33, 285, 223, 42, 338, 53, 193, 18, 373, 69, 24, 312, 229, 263, 10, 232, 361, 314, 309, 215], 79: [218, 10, 69, 367, 399, 289, 280, 52, 12, 374, 393, 148, 283, 119, 98, 369], 91: [251, 366, 207, 110, 49, 210, 278, 155, 163, 347, 121, 334, 237, 184, 124, 102, 142, 27, 33, 185, 100, 140, 217, 344], 68: [313, 330, 309, 383, 129, 341, 75, 3, 101, 228, 371, 332, 100, 248, 319, 217, 284, 204, 6, 295, 17, 375], 80: [29, 22, 14], 64: [16, 191, 128, 97, 292, 179, 256, 319, 316, 395, 213, 10, 63, 123, 97, 297, 263, 4, 23, 25, 264, 223, 164, 26, 359, 60, 392, 355, 74, 246], 36: [191, 139, 343, 128, 224, 33, 221, 16, 33, 250, 28, 143, 207, 332, 26, 367, 213, 264, 98, 60, 273, 76, 265, 11, 323, 375, 185, 44], 67: [384, 137, 189, 106, 203, 118, 268, 63, 22, 211, 6, 60, 40, 1, 329, 48, 92, 284, 93, 161, 10, 116, 97, 125, 77, 392, 261, 219, 3], 31: [312, 66, 180, 170, 85, 12, 197, 62, 133, 220, 343, 47, 301, 136, 269], 0: [206, 96, 303, 89, 99, 29, 302, 86, 229, 92, 44, 358, 46, 261], 33: [291, 296, 85, 88, 296, 107], 46: [133, 26, 306, 158, 33], 78: [381, 87, 235, 117, 16, 18, 7, 230, 337, 81, 18, 85, 33, 271, 395], 12: [211, 243, 9, 258, 290, 206, 239, 347, 60, 72, 14, 255, 377, 132, 18, 112, 247, 178], 59: [154, 88, 157, 164, 311, 36, 260, 397, 362, 186, 13, 300, 18, 117, 320, 57, 305, 261, 21, 25, 108], 45: [2, 33, 188, 72, 355, 338, 19, 265, 324, 345, 59, 165, 72, 33, 8, 38, 52, 71, 24], 37: [257, 231, 354, 67, 342, 190, 183, 349, 302, 118, 107, 264, 52, 120, 45], 10: [69, 178, 171, 110, 56, 43, 52, 364, 220, 9, 353, 216, 106, 237, 347, 215], 5: [363, 97, 9, 180, 43, 200, 213, 285, 202, 18, 167, 119, 127, 56, 144, 65, 55, 291, 306, 373, 78, 336, 27, 330], 38: [35, 281, 44, 6, 11, 124, 280, 75, 16], 43: [187, 58, 248, 39, 288, 60, 10, 394, 47, 146, 26, 27, 259, 151, 122], 95: [45, 287, 10, 350, 122, 19, 105, 42, 116, 12, 299, 396, 368, 172, 155, 47, 24, 42, 266, 358], 13: [177, 273, 79, 162], 24: [238, 322, 372, 120, 379, 231, 134, 327, 52, 173, 210, 287, 33], 25: [321, 163, 10, 50, 0, 102, 145, 65, 377, 72, 103, 108, 103, 232, 19, 334, 253, 253, 377, 252, 40, 99, 120, 34, 316], 96: [4, 11, 242, 68, 361, 143, 68, 288, 344, 385, 325, 116, 13, 246, 314, 242, 310, 3, 393, 299, 110], 61: [201, 51, 210, 303, 229, 95, 83, 88, 364], 14: [116, 67, 41, 315, 248, 78, 41, 92, 318, 307, 47, 21, 38], 48: [28, 291, 80, 100, 342, 212, 277, 391, 71, 376, 395, 351, 73, 24, 32, 398, 102, 141, 320, 89, 227, 0, 304, 371, 107, 399, 274], 88: [66, 72, 80, 388, 35, 131, 19, 308, 149, 62, 389, 119, 131, 354, 352, 106, 383, 13, 316, 106], 62: [54, 115, 176, 86, 397, 118, 126, 387, 272, 390, 309, 328, 3, 34, 151, 223, 102, 300, 114, 254, 102, 177, 175, 278, 387, 241, 217, 39, 162, 290, 209, 295, 116, 102, 29], 34: [16, 102, 325, 271, 356, 88, 196, 240, 221], 92: [25, 361, 206, 96, 117, 385, 332, 82, 44, 192], 29: [86, 384, 78, 130, 304, 249, 72, 140, 352, 240, 152, 235, 63, 289, 357, 205, 356, 314, 294, 366, 51, 211, 238, 259, 342, 200, 132, 28, 40, 353, 28, 65, 61], 71: [33, 266, 9, 323, 34, 85, 381, 27, 391, 41, 10, 372, 87], 19: [113, 19, 58, 226, 276, 90, 243], 73: [340, 222, 324], 50: [106, 335, 73, 310, 103, 349, 160, 72, 20, 235, 17, 172, 35, 208, 176, 170], 17: [272, 44, 55, 162, 31, 340, 298, 31, 243, 234, 241, 74, 161, 321, 376, 363, 212, 230, 144, 253, 345, 258, 379, 181, 197, 166, 160], 32: [146, 90, 91, 33, 139, 385, 370, 60, 101, 104, 228], 86: [257, 115, 267, 102, 268, 0, 51, 75, 31, 363, 106, 102, 387, 106, 52, 22, 76, 72, 152, 275, 360, 333, 296, 10, 171, 60], 76: [392, 146, 9, 25, 188, 262, 102, 315, 382, 95, 158, 71, 196, 252, 265, 185, 93, 198, 245, 270, 293, 36, 373], 7: [33, 147, 169, 147, 158, 63, 325, 194, 20, 25, 99, 169, 111, 244, 175, 94, 57], 44: [278, 322, 126, 350, 255], 4: [351, 57, 117, 399, 102, 285, 159, 64, 170, 70, 322, 3, 33, 35], 93: [356, 57, 15, 216, 338, 19, 113, 18, 397, 48, 276, 148, 135, 147, 357, 349], 81: [305, 142, 27, 68, 234, 138, 302, 390, 247, 324, 220, 293, 225, 254, 144, 202, 221], 26: [329, 85, 81, 16, 367, 2, 266, 88, 18, 57, 155, 350, 273, 24, 117, 73, 318, 54, 166, 54, 359, 343, 25, 89, 224, 153, 372, 156], 65: [124, 257, 195, 84, 225, 136, 73, 6, 74, 137, 198, 234, 339, 142, 116, 331, 150, 289, 172, 398, 388, 48, 86, 368], 30: [300, 92, 46, 320, 176, 93, 292, 107, 205, 37, 233, 76, 351, 173, 199, 282, 94, 47], 27: [360, 267, 227, 143, 23, 174, 65, 114, 82, 83, 286, 348, 5, 369, 352, 44], 60: [82, 52, 298, 182, 1, 189, 167, 115, 313, 123, 101], 51: [111, 274, 67, 336, 182, 88], 54: [168, 33, 225, 226, 362, 136, 226, 5, 2, 202, 284, 168, 276, 138, 177, 201, 53, 346, 70, 116, 365, 336, 111, 104], 89: [123, 382, 86, 44, 199, 133, 330, 1, 396, 62, 92, 41], 75: [157, 283, 312, 156, 337, 365, 128, 122, 19, 346, 317, 198, 244, 20, 187, 164, 391, 379, 390, 270, 295], 3: [101, 96, 282, 104, 53, 374, 260, 203, 153, 321, 30, 233, 87, 183, 245, 38, 165, 186, 381, 15, 181, 44, 49], 69: [90, 242, 97, 287, 263, 293, 65, 71, 10, 348], 21: [64, 0, 97, 108, 254, 174, 327, 207, 27, 222, 269, 311, 153, 72, 16, 108, 95, 9, 159, 121, 130, 18, 102, 212, 333, 267], 9: [27, 251, 204, 50, 107, 193, 130, 365, 79, 196, 109, 208, 214, 218, 200, 29, 315, 319, 129, 219, 323, 364, 111, 214], 2: [190, 134, 11, 167, 237, 65, 51, 268, 45, 262, 244, 25], 35: [311, 339, 88, 192, 9, 310, 359, 209, 32, 46, 7, 208, 71, 186, 44, 36, 318, 52, 0], 11: [317, 52, 274, 27, 114, 283, 23, 197, 26, 94, 308, 275], 82: [374, 11, 43, 378, 148, 355, 131, 91, 394, 141, 239, 371, 10, 114, 271, 232, 240, 27], 66: [209, 179, 118, 53, 134, 255, 354, 135, 77, 112, 331, 105, 292, 175, 195, 201, 19, 82], 42: [380, 179], 55: [84, 184, 228, 214, 340, 118, 288, 204, 249, 345, 182, 17, 247, 166], 15: [219, 19, 378, 307, 15, 137, 328, 215, 156, 279], 98: [306, 54, 329, 279, 114, 65, 334, 102], 90: [78, 9, 369, 238, 66, 61, 64, 33, 279, 270, 181, 127, 335, 102, 378, 193, 190, 157, 308, 178, 304, 7, 383, 161, 74, 154, 5, 269], 87: [132, 129], 63: [256, 18, 180, 297], 53: [224, 251, 58], 8: [69, 86, 294, 327], 83: [358, 37, 236, 191, 246, 199, 393, 16, 116, 16, 174, 380, 192, 30, 47, 109, 337, 348, 169, 26, 281, 8], 56: [195, 375, 230, 398, 11, 259, 37, 386, 50, 245, 331, 140, 216, 187, 97, 125], 39: [236, 154, 27, 388, 32, 20, 46, 117, 27, 260, 135, 299, 152, 9], 23: [27, 60, 384, 59, 335, 150, 189, 386, 256, 9, 138, 305], 16: [105, 282, 326, 301, 10, 120, 16, 58, 33], 40: [67, 39, 98, 386, 126, 84, 47, 163], 47: [141, 370, 286, 19, 25, 233, 151], 52: [0, 48, 70, 258, 101, 303, 307, 184, 313, 297], 22: [79, 357, 109, 280, 61, 6, 127], 58: [27, 55, 346], 74: [108, 10, 389, 28, 9, 317, 236, 339, 252, 333, 8, 366, 2, 194, 380, 249, 83, 26, 21], 99: [218, 394, 112], 72: [326, 145, 116, 290, 149, 54, 59], 18: [239, 376, 382], 84: [72, 91, 145, 328, 298, 52, 56, 121, 125, 341, 205], 41: [194, 30, 23, 109, 51, 23, 77, 250], 6: [81, 368, 17, 168, 262, 370, 9], 70: [66, 389, 14], 28: [396, 250, 165, 159, 10], 85: [281, 64], 20: [341, 150, 344, 102, 326], 49: [275], 97: [188]}\n"
          ]
        }
      ]
    },
    {
      "cell_type": "code",
      "source": [
        "# Test 5\n",
        "n5 = 400  # Number of nodes\n",
        "gamma5 = 2.5  # Power-law exponent\n",
        "kmin5 = 3  # Minimum degree\n",
        "num_hyper_edges5 = 50  # Desired number of hyper edges\n",
        "\n",
        "degrees5, hyperedge_dict5 = build_hypergraph(n5, gamma5, kmin5, num_hyper_edges5)\n",
        "H5 = hnx.Hypergraph(hyperedge_dict5)"
      ],
      "metadata": {
        "id": "Tc3haqYWuVHX"
      },
      "execution_count": null,
      "outputs": []
    },
    {
      "cell_type": "code",
      "source": [
        "# Test 6\n",
        "n6 = 400  # Number of nodes\n",
        "gamma6 = 2.5  # Power-law exponent\n",
        "kmin6 = 3  # Minimum degree\n",
        "num_hyper_edges6 = 75  # Desired number of hyper edges\n",
        "\n",
        "degrees6, hyperedge_dict6 = build_hypergraph(n6, gamma6, kmin6, num_hyper_edges6)\n",
        "H6 = hnx.Hypergraph(hyperedge_dict6)"
      ],
      "metadata": {
        "id": "k9H67gKqX0B2"
      },
      "execution_count": null,
      "outputs": []
    },
    {
      "cell_type": "code",
      "source": [
        "# Test 7\n",
        "n7 =1000  # Number of nodes\n",
        "gamma7 = 2.5  # Power-law exponent\n",
        "kmin7 = 3  # Minimum degree\n",
        "num_hyper_edges7 = 100  # Desired number of hyper edges\n",
        "\n",
        "degrees7, hyperedge_dict7 = build_hypergraph(n7, gamma7, kmin7, num_hyper_edges7)\n",
        "H7 = hnx.Hypergraph(hyperedge_dict7)"
      ],
      "metadata": {
        "id": "2x3THg_UYR7H"
      },
      "execution_count": null,
      "outputs": []
    },
    {
      "cell_type": "markdown",
      "source": [
        "## Part 2: Assign Threshold\n",
        "The following steps assigns a threshold value to each node in the network. The threshold follows a uniform or normal distribution with predefined mean (mu) and standard deviation (sigma)."
      ],
      "metadata": {
        "id": "HZTEX4LMvqcQ"
      }
    },
    {
      "cell_type": "code",
      "source": [
        "import numpy as np\n",
        "import random\n",
        "\n",
        "# Defines the parameters to be used\n",
        "mu = 0.1\n",
        "sigma = 0.05\n",
        "\n",
        "# Function to assign thresholds to the individual nodes\n",
        "def assign_thresholds(hypergraph):\n",
        "    NV = hypergraph.order()\n",
        "    Ltre = {}\n",
        "\n",
        "    for node in hypergraph.nodes():\n",
        "          # Uniform distribution: #\n",
        "          #Ltre[node] = np.random.uniform()\n",
        "          # Normal distrution\n",
        "          while True:\n",
        "              threshold = random.gauss(mu, sigma)\n",
        "              if 0 < threshold < 1:\n",
        "                  break\n",
        "          Ltre[node] = threshold\n",
        "\n",
        "    return Ltre\n",
        "\n",
        "#Ltre = assign_thresholds(H)\n",
        "\n",
        "#print(\"Threshold List for Nodes: \", Ltre )"
      ],
      "metadata": {
        "id": "jzsnfJsuzrA0"
      },
      "execution_count": null,
      "outputs": []
    },
    {
      "cell_type": "code",
      "source": [
        "Ltre2 = assign_thresholds(H2)\n",
        "\n",
        "print(\"Threshold List for Nodes: \", Ltre2 )"
      ],
      "metadata": {
        "colab": {
          "base_uri": "https://localhost:8080/"
        },
        "id": "ljLUSRLb4H2F",
        "outputId": "45de5606-f9ba-482e-951c-c65b76afbb13"
      },
      "execution_count": null,
      "outputs": [
        {
          "output_type": "stream",
          "name": "stdout",
          "text": [
            "Threshold List for Nodes:  {0: 0.05994840320899818, 1: 0.1334621697526982, 2: 0.10058736745875652, 3: 0.09112684545477882, 4: 0.13167287301579098, 5: 0.07010084053768303, 6: 0.19078867756602177, 7: 0.07314751808904728, 8: 0.15417882053075538, 9: 0.0466541902695536, 10: 0.11960346315878394, 11: 0.1087617422800429, 12: 0.05788637767801318, 13: 0.07126985282283106, 14: 0.07527514950322443, 15: 0.10257958852420976, 16: 0.1684352644768507, 17: 0.06705433807726989, 18: 0.10628112423809281, 19: 0.0817865613847473, 20: 0.23389527593376563, 21: 0.08273103315317935, 22: 0.14957152885816077, 23: 0.06609410893346936, 24: 0.09136801073748692, 25: 0.12447141004687678, 26: 0.14042443694553539, 27: 0.05322865975182454, 28: 0.13854554190574045, 29: 0.10959313930998978, 30: 0.09137389653031308, 31: 0.13855205862185355, 32: 0.12216752838157126, 33: 0.10112019545885587, 34: 0.02676627829635038, 35: 0.11684786317697873, 36: 0.19155720400975457, 37: 0.14147270714125704, 38: 0.08398996904977724, 39: 0.027537772064343644, 40: 0.12579124602538222, 41: 0.009887264270150561, 42: 0.09328650641836583, 43: 0.05120042595565411, 44: 0.07246796148986666, 45: 0.07890295154003305, 46: 0.14009184691885979, 47: 0.13912848388747273, 48: 0.16552349779537195, 49: 0.0044553991519272335, 50: 0.2347293552038534, 51: 0.09118029805816608, 52: 0.08635153753469652, 53: 0.1383515768447536, 54: 0.13898025450024698, 55: 0.07780411276258999, 56: 0.11757912268100953, 57: 0.09874312565887171, 58: 0.09181147719653358, 59: 0.1486156464048719, 60: 0.23374125025369785, 61: 0.06029522037805052, 62: 0.08050491826663614, 63: 0.14429543333791384, 64: 0.06483965046236617, 65: 0.13233381405133568, 66: 0.07553195893436193, 67: 0.06010661868075445, 68: 0.1371150951023728, 69: 0.07136722404813117, 70: 0.13006773681976289, 71: 0.12559424840859984, 72: 0.15666302812015, 73: 0.12625840281479478, 74: 0.1513329523940645, 75: 0.1270839612264867, 76: 0.007849728970126202, 77: 0.05571598009975552, 78: 0.03875433971866302, 79: 0.04672325478787531, 80: 0.13773749762235266, 81: 0.056017387184545006, 82: 0.19613259980205486, 83: 0.11177033881050477, 84: 0.13385783353829575, 85: 0.08437612707366701, 86: 0.11598806633242459, 87: 0.08027002643570616, 88: 0.10990491890444329, 89: 0.16367832153010464, 90: 0.059953283246560435, 91: 0.10521823009118547, 92: 0.10357401597833148, 93: 0.11426445919180375, 94: 0.14226516080853951, 95: 0.10351970028976147, 96: 0.02689547116680091, 97: 0.08958896920494201, 98: 0.10513265517439531, 99: 0.23421485355798574, 100: 0.13141820123341927, 101: 0.12192862665868351, 102: 0.03452044402146924, 103: 0.06363884357600927, 104: 0.02981610125620661, 105: 0.1827962014198577, 106: 0.16492619119368446, 107: 0.1182075537649297, 108: 0.08859418156778642, 109: 0.071111283247267, 110: 0.1467209672898615, 111: 0.04306255676057746, 112: 0.19158530946797128, 113: 0.18776572635727834, 114: 0.09067845095932063, 115: 0.05657354222274243, 116: 0.04934002633014022, 117: 0.112725764953101, 118: 0.13254325822877755, 119: 0.13792781177128255, 120: 0.07801090860934831, 121: 0.04017190907327966, 122: 0.11331603798077652, 123: 0.09069728531450452, 124: 0.1785553385243413, 125: 0.03092180491572799, 126: 0.1201812854561002, 127: 0.04932991738006115, 128: 0.028975996862147843, 129: 0.14586819663352868, 130: 0.2531970513343169, 131: 0.04473274545639231, 132: 0.19927701464911163, 133: 0.06669653501615472, 134: 0.11733565458840593, 135: 0.09411875235664148, 136: 0.15786331698156525, 137: 0.07567652436075396, 138: 0.17490234126852466, 139: 0.08041221465024018, 140: 0.17352746452771417, 141: 0.07382247073910217, 142: 0.07608061495553287, 143: 0.17034393809233114, 144: 0.10647610761923389, 145: 0.17388315125999343, 146: 0.048318084895685, 147: 0.10180409035445118, 148: 0.01413155938954179, 149: 0.12407136262024895, 150: 0.1967979921676358, 151: 0.055016568944464966, 152: 0.07134144165210275, 153: 0.07586620371879062, 154: 0.09227866931150477, 155: 0.1142808485422775, 156: 0.10946176820016444, 157: 0.054650483293460964, 158: 0.09852776966100966, 159: 0.1286367163582867, 160: 0.029698961524788903, 161: 0.18544125714254323, 162: 0.1404321520613783, 163: 0.12358799053799521, 164: 0.15905882293265017, 165: 0.09130229936844574, 166: 0.1738712973301067, 167: 0.09864548943029557, 168: 0.09700292496704022, 169: 0.13165603177982396, 170: 0.13509421538215788, 171: 0.16651243850892825, 172: 0.15806431949642855, 173: 0.14353658745493572, 174: 0.05125337701177277, 175: 0.015005608828620537, 176: 0.0828749967383305, 177: 0.10573976265708186, 178: 0.07160705865607876, 179: 0.12947051449519054, 180: 0.0708923213467886, 181: 0.03713585809373553, 182: 0.0752085021340611, 183: 0.08282946454239855, 184: 0.06535166236583473, 185: 0.09883242465398534, 186: 0.13849541081582403, 187: 0.1327888433197162, 188: 0.07292991912302497, 189: 0.12723923650785413, 190: 0.03979133890850938, 191: 0.06225217517636345, 192: 0.14798813626464868, 193: 0.07246818969482913, 194: 0.11241328854395348, 195: 0.06527294274296294, 196: 0.1195538313602112, 197: 0.10879357000418219, 198: 0.1338943693020405, 199: 0.03143905912253314, 200: 0.07714395659386082, 201: 0.1699137584143528, 202: 0.06583394435484992, 203: 0.08207944810595828, 204: 0.07582423632621818, 205: 0.054517298083661986, 206: 0.09925236417015178, 207: 0.09944681610119298, 208: 0.16723411748549163, 209: 0.02069949509953016, 210: 0.14989456341192414, 211: 0.1366214705130838, 212: 0.12929454191692208, 213: 0.051708380873528734, 214: 0.14498671008746966, 215: 0.08726447747906815, 216: 0.16081917569409482, 217: 0.12723608855836538, 218: 0.11423054320845566, 219: 0.20999720555122248, 220: 0.17618203987516604, 221: 0.03848500491141113, 222: 0.11823541030663566, 223: 0.13177493301596302, 224: 0.09191998090823846, 225: 0.12083613236879717, 226: 0.011342829782734598, 227: 0.21237731050664374, 228: 0.12941580077673287, 229: 0.027039651766871634, 230: 0.1298495771193902, 231: 0.053069011256419295, 232: 0.11371042221674033, 233: 0.04634092463707447, 234: 0.11500435091155366, 235: 0.1330964001136726, 236: 0.03154813374514391, 237: 0.10161702938765393, 238: 0.17369339803383452, 239: 0.07188909856865992, 240: 0.11359949159304052, 241: 0.11356769381190886, 242: 0.14082065575743974, 243: 0.10071565535177622, 244: 0.11830698819996689, 245: 0.09673585074027555, 246: 0.1410272231797315, 247: 0.1088891106785458, 248: 0.07972057773774746, 249: 0.0609864595126815, 250: 0.061897331847977334, 251: 0.11422401524619392, 252: 0.21298506529169917, 253: 0.113312525706164, 254: 0.026941415285589174, 255: 0.09964667043632487, 256: 0.1464496994408788, 257: 0.14684487928030063, 258: 0.12676918061124365, 259: 0.14824562002039052, 260: 0.14145698347362692, 261: 0.13766662692910192, 262: 0.1839575343194551, 263: 0.10605169068127038, 264: 0.12011148643108228, 265: 0.06945910833296355, 266: 0.11043581054671389, 267: 0.13253112280108995, 268: 0.032443348997195684, 269: 0.12085208446889062, 270: 0.12398813145588926, 271: 0.10172805187324503, 272: 0.05817132191430038, 273: 0.02900307844892687, 274: 0.05284823903866661, 275: 0.16361710844128285, 276: 0.14271077294222115, 277: 0.01935681820366983, 278: 0.17271998452948303, 279: 0.14612063904370415, 280: 0.0659460124699318, 281: 0.17633787175490262, 282: 0.05900527908102329, 283: 0.16736572649411752, 284: 0.12303349218326814, 285: 0.10952148889521215, 286: 0.14306025526454286, 287: 0.15108865342054972, 288: 0.23018692726281936, 289: 0.18057941041556808, 290: 0.09757016498300371, 291: 0.12154267944448953, 292: 0.09978100497423555, 293: 0.04450753058603705, 294: 0.09647445886462115, 295: 0.1477722234084502, 296: 0.01628193306522141, 297: 0.13834140766152214, 298: 0.07317355244740008, 299: 0.1103950800670154, 300: 0.09880693652960909, 301: 0.10401292556720716, 302: 0.09240551057684834, 303: 0.05037519440901139, 304: 0.059784004522089505, 305: 0.14149900870525367, 306: 0.0791129424269619, 307: 0.059047205239329166, 308: 0.22708162580713878, 309: 0.12052258475784826, 310: 0.09447300321387013, 311: 0.11635160910996756, 312: 0.16261137555935817, 313: 0.11412585527906814, 314: 0.200573313146704, 315: 0.0697672212582325, 316: 0.2017192925239497, 317: 0.08874211505209934, 318: 0.06823391910335617, 319: 0.1451274361935308, 320: 0.14198109889724292, 321: 0.11959188874607386, 322: 0.019575328997760627, 323: 0.08774397852922339, 324: 0.10260586481077391, 325: 0.18100052667268365, 326: 0.10394942813581827, 327: 0.08661314572615963, 328: 0.07483811138230523, 329: 0.14090430876620913, 330: 0.06605091513341027, 331: 0.10868277369184204, 332: 0.14759525920408492, 333: 0.14462610422664607, 334: 0.12040533780855447, 335: 0.10292167619745819, 336: 0.04908479561878202, 337: 0.09572582001946142, 338: 0.148664306865728, 339: 0.1327873147563938, 340: 0.09477048812503053, 341: 0.15696506446583341, 342: 0.18906869639520008, 343: 0.09283320467926877, 344: 0.2393177316102495, 345: 0.11620157341923228, 346: 0.08078839129087093, 347: 0.18638558790367712, 348: 0.1097017917297082, 349: 0.09431066897943782, 350: 0.1410021428684408, 351: 0.056410254107988875, 352: 0.0657486323641377, 353: 0.0956356584531629, 354: 0.06102701865341655, 355: 0.10819341080451104, 356: 0.03685289345152218, 357: 0.08855263826566484, 358: 0.1264071401800765, 359: 0.136489347815474, 360: 0.15237082545224578, 361: 0.07106174276012668, 362: 0.14427048156639105, 363: 0.09416401579215161, 364: 0.21695289417163122, 365: 0.11338220227353465, 366: 0.004860171860061338, 367: 0.07820027022658782, 368: 0.03792316977366007, 369: 0.18157587379523538, 370: 0.10273543354706874, 371: 0.14359996784393916, 372: 0.2341573662430321, 373: 0.09770672875058696, 374: 0.05457407921658748, 375: 0.05742914670890196, 376: 0.08097838950166937, 377: 0.08929943581731474, 378: 0.05710863853318103, 379: 0.08226098755731923, 380: 0.03963848399987102, 381: 0.12879652134323402, 382: 0.1638130195083161, 383: 0.1940418864916656, 384: 0.069964569018761, 385: 0.12036455918984786, 386: 0.15124963775613637, 387: 0.14982180093615738, 388: 0.09489651369600997, 389: 0.1104551545986313, 390: 0.13244418459327645, 391: 0.09092265282352033, 392: 0.15873752050617854, 393: 0.06168034838478306, 394: 0.1226096910927374, 395: 0.04075214695848905, 396: 0.15839347670311324, 397: 0.05935811207225102, 398: 0.10862493935092885, 399: 0.10380084313986054}\n"
          ]
        }
      ]
    },
    {
      "cell_type": "markdown",
      "source": [
        "## Part 3: Rumor Spreading on Hypergraph\n",
        "The follow steps extends the basic rumor spreading model to a hypergraph. An infection or recovery event can only happen if its infected or recovered neighbors reach a pre-assigned threshold.  "
      ],
      "metadata": {
        "id": "QwwCohMxxZmc"
      }
    },
    {
      "cell_type": "code",
      "source": [
        "def rumor_hyperedge_2(nw, ldeg, mu, lam, alp, n_samp):\n",
        "    t_max = 10000\n",
        "    N = nw.order()\n",
        "    kmax = max(ldeg)\n",
        "    sigma = 0.05\n",
        "    ltre = assign_thresholds(nw)\n",
        "\n",
        "    t_end = 0\n",
        "    stifler_fractions = []\n",
        "\n",
        "    for i_samp in range(1, n_samp+1):\n",
        "        t = 0\n",
        "        N_rec = 0\n",
        "\n",
        "        states = {j: 0 for j in nw.nodes()}\n",
        "\n",
        "        inf = []\n",
        "        rec = []\n",
        "        initial_node = np.random.choice(list(nw.nodes()))\n",
        "        states[initial_node] = 1\n",
        "        inf.append(initial_node)\n",
        "        N_inf = 1\n",
        "        N_e = nw.degree(initial_node)\n",
        "\n",
        "        while N_inf != 0:\n",
        "            total_rate = lam * N_e + 2 * alp * N_e\n",
        "            tau = -np.log(np.random.uniform(1e-6, 1)) / total_rate\n",
        "            t += tau\n",
        "\n",
        "            if t >= t_max:\n",
        "                break\n",
        "\n",
        "            #print(\"Current time:\", t)\n",
        "            #print(\"Infected nodes:\", inf)\n",
        "            #print(\"Recovered nodes:\", rec)\n",
        "            #print(\"N_inf:\", N_inf)\n",
        "            #print(\"N_e:\", N_e)\n",
        "            #plt.figure()\n",
        "            #plot_hypergraph(H, states)\n",
        "\n",
        "            # Determine which event occurs\n",
        "            event = np.random.uniform()\n",
        "            p1 = lam / (lam + 2 * alp)\n",
        "            p2 = (lam + alp )/ (lam + 2 * alp)\n",
        "\n",
        "            # Determine if accept selected spreader based on degree distribution\n",
        "            q_deg = np.random.uniform()\n",
        "\n",
        "\n",
        "            # Infection:\n",
        "            if event <= p1:\n",
        "                # Select a spreader individual to spread the rumor\n",
        "                inf_node = random.choice(inf)\n",
        "                if q_deg < ldeg[inf_node] / kmax:\n",
        "                    # Select a random hyper edge containing the infected node\n",
        "                    infected_hyper_edge = np.random.choice(list(nw.edges()))\n",
        "                    neighbors = nw[infected_hyper_edge]\n",
        "                    while inf_node not in neighbors:\n",
        "                        infected_hyper_edge = np.random.choice(list(nw.edges()))\n",
        "                        neighbors = nw[infected_hyper_edge]\n",
        "\n",
        "                    # Check if any neighbor meets the infection threshold\n",
        "                    for neighbor in neighbors:\n",
        "                        # Check if the selected neighbor is ignorant\n",
        "                            if states[neighbor] == 0:\n",
        "                                #print(\"Infection event\")\n",
        "                            # Check the threshold\n",
        "                                count_inf_neighbors = sum(states[node] == 1 for node in nw.neighbors(neighbor))\n",
        "                                if count_inf_neighbors / len(nw.neighbors(neighbor)) >= ltre[neighbor]:\n",
        "                                    states[neighbor] = 1  # ignorant neighbor becomes spreader\n",
        "                                    inf.append(neighbor)\n",
        "                                    N_inf += 1\n",
        "                                    #print(\"successful infection\")\n",
        "\n",
        "\n",
        "            else:  # Recovery\n",
        "                # Select a spreader individual to recover\n",
        "                rec_node = np.random.choice(inf)\n",
        "                if q_deg < ldeg[rec_node] / kmax:\n",
        "                    # Select a random hyperedge containing the recovered node\n",
        "                    recovered_hyper_edge = np.random.choice(list(nw.edges()))\n",
        "                    # Get neighbors list\n",
        "                    neighbors = nw[recovered_hyper_edge]\n",
        "                    #print(\"Recovery event\", neighbors)\n",
        "                    if event <=p2:\n",
        "                        count_rec_neighbors = sum(states[node] == 2 for node in neighbors)\n",
        "                        #print(\"count_rec_neighbors\", count_rec_neighbors)\n",
        "                        if count_rec_neighbors / len(neighbors) >= ltre[rec_node]:\n",
        "                        #if count_rec_neighbors > 0:\n",
        "                            # Update spreader to stifler if the selected neighbor is a stifler or spreader\n",
        "                            states[rec_node] = 2\n",
        "                            N_inf -= 1\n",
        "                            inf.remove(rec_node)\n",
        "                            rec.append(rec_node)\n",
        "                            N_rec += 1\n",
        "                            #print(\"successful recovery\")\n",
        "\n",
        "                    else:\n",
        "                        count_rec_neighbors = sum(states[node] == 1 for node in neighbors)\n",
        "                        #print(\"count_rec_neighbors\", count_rec_neighbors)\n",
        "                        if count_rec_neighbors / len(neighbors) >= ltre[rec_node]:\n",
        "                        #if count_rec_neighbors > 0:\n",
        "                            # Update spreader to stifler if the selected neighbor is a stifler or spreader\n",
        "                            states[rec_node] = 2\n",
        "                            N_inf -= 1\n",
        "                            inf.remove(rec_node)\n",
        "                            rec.append(rec_node)\n",
        "                            N_rec += 1\n",
        "                            #print(\"successful recovery\")\n",
        "\n",
        "                    \"\"\"\n",
        "                    else:\n",
        "                        for neighbor in neighbors:\n",
        "                        # Check the threshold of infected\n",
        "                            count_inf_neighbors = 0\n",
        "                            for node in neighbors:\n",
        "                                if states[node] == 1:\n",
        "                                    count_inf_neighbors += 1\n",
        "                            if count_inf_neighbors / len(neighbors) >= Ltre[rec_node]:\n",
        "                                # Update spreader to stifler if the selected neighbor is a stifler\n",
        "                                states[rec_node] = 2\n",
        "                                N_inf -= 1\n",
        "                                N_e -= nw.degree(rec_node)\n",
        "                                inf.remove(rec_node)\n",
        "                                rec.append(rec_node)\n",
        "                                N_rec += 1\n",
        "                    \"\"\"\n",
        "            #print(\"N_inf after event:\", N_inf)\n",
        "            #print(\"N_e after event:\", N_e)\n",
        "\n",
        "\n",
        "        if N_inf == 0:\n",
        "              t_end += t\n",
        "              stifler_frac = N_rec / N\n",
        "              stifler_fractions.append(stifler_frac)\n",
        "              #print(\"Sampling result - Lam:\", lam, \"N_rec:\", N_rec, \"t_end:\", t_end, \"stifler_frac:\", stifler_frac)\n",
        "\n",
        "    avg_stifler_frac = sum(stifler_fractions) / len(stifler_fractions)\n",
        "    t_end_av = t_end/n_samp\n",
        "\n",
        "    #return nw, states\n",
        "    return avg_stifler_frac, t_end_av"
      ],
      "metadata": {
        "id": "0dv9-zX5JnzN"
      },
      "execution_count": null,
      "outputs": []
    },
    {
      "cell_type": "markdown",
      "source": [
        "The following function generates the hypergraph based on nodes' disease status, where susceptible nodes are yellow, infected nodes are purple, and recovered nodes are green."
      ],
      "metadata": {
        "id": "ia5XWgMHHViQ"
      }
    },
    {
      "cell_type": "code",
      "source": [
        "def plot_hypergraph(hypergraph, states):\n",
        "    pos = nx.spring_layout(hypergraph)\n",
        "    node_colors = []\n",
        "    #node_sizes = []\n",
        "    for node in hypergraph.nodes():\n",
        "        if states[node] == 1:  # Infected node (purple)\n",
        "            node_colors.append(\"purple\")\n",
        "        elif states[node] == 2:  # Recovered node (green)\n",
        "            node_colors.append(\"green\")\n",
        "        else:  # Susceptible node (yellow)\n",
        "            node_colors.append(\"yellow\")\n",
        "        #node_sizes.append(thresholds[node] * 100)  # Adjust node size based on threshold value\n",
        "\n",
        "    hnx.drawing.draw(hypergraph, pos, nodes_kwargs={'facecolors': node_colors})"
      ],
      "metadata": {
        "id": "hmQ2XBJ7Hln7"
      },
      "execution_count": null,
      "outputs": []
    },
    {
      "cell_type": "code",
      "source": [
        "#Test 2\n",
        "#n = 400, gamma = 2.25, kmin = 3, num_hyper_edges = 100\n",
        "n_samp = 100\n",
        "alp = 1\n",
        "\n",
        "# Set the mu and lambda_values\n",
        "mu_values = np.arange(0.0, 0.1, 0.02)\n",
        "lambda_values = np.arange(0.1, 0.5, 0.05)\n",
        "\n",
        "# Initialize the result array\n",
        "results = np.zeros((len(mu_values), len(lambda_values)))\n",
        "\n",
        "# Iterate over mu and lambda values\n",
        "for i, mu in enumerate(mu_values):\n",
        "    for j, lam in enumerate(lambda_values):\n",
        "        rho_R_av, t_end_av = rumor_hyperedge_2(H2, degrees2, mu, lam, alp, n_samp)\n",
        "        results[i, j] = rho_R_av\n",
        "        print(\"Average result -- \", \"mu:\", mu, \"lam:\", lam, \"stifler_frac:\", rho_R_av)\n",
        "\n",
        "import matplotlib.ticker as ticker\n",
        "\n",
        "# Plot the heat map\n",
        "fig, ax = plt.subplots(figsize=(8, 6))\n",
        "heatmap = ax.imshow(results, cmap='YlGnBu', interpolation='nearest')\n",
        "\n",
        "# Set the tick labels and show colorbar\n",
        "ax.set_xticks(np.arange(len(lambda_values)))\n",
        "ax.set_yticks(np.arange(len(mu_values)))\n",
        "\n",
        "# Format the tick labels with two decimal places using string formatting\n",
        "lambda_formatter = ticker.StrMethodFormatter('{:.2f}'.format)\n",
        "mu_formatter = ticker.StrMethodFormatter('{:.2f}'.format)\n",
        "ax.xaxis.set_major_formatter(lambda_formatter)\n",
        "ax.yaxis.set_major_formatter(mu_formatter)\n",
        "#ax.invert_yaxis()\n",
        "\n",
        "ax.set_xticklabels(['{:.2f}'.format(val) for val in lambda_values])\n",
        "ax.set_yticklabels(['{:.2f}'.format(val) for val in mu_values])\n",
        "plt.xticks(rotation=45)\n",
        "plt.colorbar(heatmap)\n",
        "\n",
        "# Set labels and title\n",
        "ax.set_xlabel('Lambda')\n",
        "ax.set_ylabel('Mu')\n",
        "ax.set_title('Average Stifler Density Heatmap')\n",
        "\n",
        "# Display the heat map\n",
        "plt.show()"
      ],
      "metadata": {
        "id": "oYi0utlBZBL-"
      },
      "execution_count": null,
      "outputs": []
    },
    {
      "cell_type": "code",
      "source": [
        "#Test 3\n",
        "#n = 400, gamma = 2.5, kmin = 3, num_hyper_edges = 100\n",
        "n_samp = 100\n",
        "alp = 1\n",
        "\n",
        "# Set the mu and lambda_values\n",
        "mu_values = np.arange(0.0, 0.1, 0.02)\n",
        "lambda_values = np.arange(0.1, 0.5, 0.05)\n",
        "\n",
        "# Initialize the result array\n",
        "results = np.zeros((len(mu_values), len(lambda_values)))\n",
        "\n",
        "# Iterate over mu and lambda values\n",
        "for i, mu in enumerate(mu_values):\n",
        "    for j, lam in enumerate(lambda_values):\n",
        "        rho_R_av, t_end_av = rumor_hyperedge_2(H3, degrees3, mu, lam, alp, n_samp)\n",
        "        results[i, j] = rho_R_av\n",
        "        print(\"Average result -- \", \"mu:\", mu, \"lam:\", lam, \"stifler_frac:\", rho_R_av)\n",
        "\n",
        "import matplotlib.ticker as ticker\n",
        "\n",
        "# Plot the heat map\n",
        "fig, ax = plt.subplots(figsize=(8, 6))\n",
        "heatmap = ax.imshow(results, cmap='YlGnBu', interpolation='nearest')\n",
        "\n",
        "# Set the tick labels and show colorbar\n",
        "ax.set_xticks(np.arange(len(lambda_values)))\n",
        "ax.set_yticks(np.arange(len(mu_values)))\n",
        "\n",
        "# Format the tick labels with two decimal places using string formatting\n",
        "lambda_formatter = ticker.StrMethodFormatter('{:.2f}'.format)\n",
        "mu_formatter = ticker.StrMethodFormatter('{:.2f}'.format)\n",
        "ax.xaxis.set_major_formatter(lambda_formatter)\n",
        "ax.yaxis.set_major_formatter(mu_formatter)\n",
        "#ax.invert_yaxis()\n",
        "\n",
        "ax.set_xticklabels(['{:.2f}'.format(val) for val in lambda_values])\n",
        "ax.set_yticklabels(['{:.2f}'.format(val) for val in mu_values])\n",
        "plt.xticks(rotation=45)\n",
        "plt.colorbar(heatmap)\n",
        "\n",
        "# Set labels and title\n",
        "ax.set_xlabel('Lambda')\n",
        "ax.set_ylabel('Mu')\n",
        "ax.set_title('Average Stifler Density Heatmap')\n",
        "\n",
        "# Display the heat map\n",
        "plt.show()"
      ],
      "metadata": {
        "id": "PA6ngwXqZDdn"
      },
      "execution_count": null,
      "outputs": []
    },
    {
      "cell_type": "code",
      "source": [
        "#Test 4\n",
        "#n = 400, gamma = 2.75, kmin = 3, num_hyper_edges = 100\n",
        "n_samp = 100\n",
        "alp = 1\n",
        "\n",
        "# Set the mu and lambda_values\n",
        "mu_values = np.arange(0.0, 0.1, 0.02)\n",
        "lambda_values = np.arange(0.1, 0.5, 0.05)\n",
        "\n",
        "# Initialize the result array\n",
        "results = np.zeros((len(mu_values), len(lambda_values)))\n",
        "\n",
        "# Iterate over mu and lambda values\n",
        "for i, mu in enumerate(mu_values):\n",
        "    for j, lam in enumerate(lambda_values):\n",
        "        rho_R_av, t_end_av = rumor_hyperedge_2(H4, degrees4, mu, lam, alp, n_samp)\n",
        "        results[i, j] = rho_R_av\n",
        "        print(\"Average result -- \", \"mu:\", mu, \"lam:\", lam, \"stifler_frac:\", rho_R_av)\n",
        "\n",
        "import matplotlib.ticker as ticker\n",
        "\n",
        "# Plot the heat map\n",
        "fig, ax = plt.subplots(figsize=(8, 6))\n",
        "heatmap = ax.imshow(results, cmap='YlGnBu', interpolation='nearest')\n",
        "\n",
        "# Set the tick labels and show colorbar\n",
        "ax.set_xticks(np.arange(len(lambda_values)))\n",
        "ax.set_yticks(np.arange(len(mu_values)))\n",
        "\n",
        "# Format the tick labels with two decimal places using string formatting\n",
        "lambda_formatter = ticker.StrMethodFormatter('{:.2f}'.format)\n",
        "mu_formatter = ticker.StrMethodFormatter('{:.2f}'.format)\n",
        "ax.xaxis.set_major_formatter(lambda_formatter)\n",
        "ax.yaxis.set_major_formatter(mu_formatter)\n",
        "#ax.invert_yaxis()\n",
        "\n",
        "ax.set_xticklabels(['{:.2f}'.format(val) for val in lambda_values])\n",
        "ax.set_yticklabels(['{:.2f}'.format(val) for val in mu_values])\n",
        "plt.xticks(rotation=45)\n",
        "plt.colorbar(heatmap)\n",
        "\n",
        "# Set labels and title\n",
        "ax.set_xlabel('Lambda')\n",
        "ax.set_ylabel('Mu')\n",
        "ax.set_title('Average Stifler Density Heatmap')\n",
        "\n",
        "# Display the heat map\n",
        "plt.show()"
      ],
      "metadata": {
        "id": "i3XxvLKeZNCY"
      },
      "execution_count": null,
      "outputs": []
    },
    {
      "cell_type": "code",
      "source": [
        "#Test 5\n",
        "#n = 400, gamma = 2.5, kmin = 3, num_hyper_edges = 50\n",
        "n_samp = 100\n",
        "alp = 1\n",
        "\n",
        "# Set the mu and lambda_values\n",
        "mu_values = np.arange(0.0, 0.1, 0.02)\n",
        "lambda_values = np.arange(0.1, 0.5, 0.05)\n",
        "\n",
        "# Initialize the result array\n",
        "results = np.zeros((len(mu_values), len(lambda_values)))\n",
        "\n",
        "# Iterate over mu and lambda values\n",
        "for i, mu in enumerate(mu_values):\n",
        "    for j, lam in enumerate(lambda_values):\n",
        "        rho_R_av, t_end_av = rumor_hyperedge_2(H5, degrees5, mu, lam, alp, n_samp)\n",
        "        results[i, j] = rho_R_av\n",
        "        print(\"Average result -- \", \"mu:\", mu, \"lam:\", lam, \"stifler_frac:\", rho_R_av)\n",
        "\n",
        "import matplotlib.ticker as ticker\n",
        "\n",
        "# Plot the heat map\n",
        "fig, ax = plt.subplots(figsize=(8, 6))\n",
        "heatmap = ax.imshow(results, cmap='YlGnBu', interpolation='nearest')\n",
        "\n",
        "# Set the tick labels and show colorbar\n",
        "ax.set_xticks(np.arange(len(lambda_values)))\n",
        "ax.set_yticks(np.arange(len(mu_values)))\n",
        "\n",
        "# Format the tick labels with two decimal places using string formatting\n",
        "lambda_formatter = ticker.StrMethodFormatter('{:.2f}'.format)\n",
        "mu_formatter = ticker.StrMethodFormatter('{:.2f}'.format)\n",
        "ax.xaxis.set_major_formatter(lambda_formatter)\n",
        "ax.yaxis.set_major_formatter(mu_formatter)\n",
        "#ax.invert_yaxis()\n",
        "\n",
        "ax.set_xticklabels(['{:.2f}'.format(val) for val in lambda_values])\n",
        "ax.set_yticklabels(['{:.2f}'.format(val) for val in mu_values])\n",
        "plt.xticks(rotation=45)\n",
        "plt.colorbar(heatmap)\n",
        "\n",
        "# Set labels and title\n",
        "ax.set_xlabel('Lambda')\n",
        "ax.set_ylabel('Mu')\n",
        "ax.set_title('Average Stifler Density Heatmap')\n",
        "\n",
        "# Display the heat map\n",
        "plt.show()"
      ],
      "metadata": {
        "id": "BbBtDFXVZSNl"
      },
      "execution_count": null,
      "outputs": []
    },
    {
      "cell_type": "code",
      "source": [
        "#Test 6\n",
        "#n = 400, gamma = 2.5, kmin = 3, num_hyper_edges = 75\n",
        "n_samp = 100\n",
        "alp = 1\n",
        "\n",
        "# Set the mu and lambda_values\n",
        "mu_values = np.arange(0.0, 0.1, 0.02)\n",
        "lambda_values = np.arange(0.1, 0.5, 0.05)\n",
        "\n",
        "# Initialize the result array\n",
        "results = np.zeros((len(mu_values), len(lambda_values)))\n",
        "\n",
        "# Iterate over mu and lambda values\n",
        "for i, mu in enumerate(mu_values):\n",
        "    for j, lam in enumerate(lambda_values):\n",
        "        rho_R_av, t_end_av = rumor_hyperedge_2(H6, degrees6, mu, lam, alp, n_samp)\n",
        "        results[i, j] = rho_R_av\n",
        "        print(\"Average result -- \", \"mu:\", mu, \"lam:\", lam, \"stifler_frac:\", rho_R_av)\n",
        "\n",
        "import matplotlib.ticker as ticker\n",
        "\n",
        "# Plot the heat map\n",
        "fig, ax = plt.subplots(figsize=(8, 6))\n",
        "heatmap = ax.imshow(results, cmap='YlGnBu', interpolation='nearest')\n",
        "\n",
        "# Set the tick labels and show colorbar\n",
        "ax.set_xticks(np.arange(len(lambda_values)))\n",
        "ax.set_yticks(np.arange(len(mu_values)))\n",
        "\n",
        "# Format the tick labels with two decimal places using string formatting\n",
        "lambda_formatter = ticker.StrMethodFormatter('{:.2f}'.format)\n",
        "mu_formatter = ticker.StrMethodFormatter('{:.2f}'.format)\n",
        "ax.xaxis.set_major_formatter(lambda_formatter)\n",
        "ax.yaxis.set_major_formatter(mu_formatter)\n",
        "#ax.invert_yaxis()\n",
        "\n",
        "ax.set_xticklabels(['{:.2f}'.format(val) for val in lambda_values])\n",
        "ax.set_yticklabels(['{:.2f}'.format(val) for val in mu_values])\n",
        "plt.xticks(rotation=45)\n",
        "plt.colorbar(heatmap)\n",
        "\n",
        "# Set labels and title\n",
        "ax.set_xlabel('Lambda')\n",
        "ax.set_ylabel('Mu')\n",
        "ax.set_title('Average Stifler Density Heatmap')\n",
        "\n",
        "# Display the heat map\n",
        "plt.show()"
      ],
      "metadata": {
        "id": "57jdBNnOZZ2l"
      },
      "execution_count": null,
      "outputs": []
    },
    {
      "cell_type": "code",
      "source": [
        "#Test 7\n",
        "#n = 1000, gamma = 2.5, kmin = 3, num_hyper_edges = 100\n",
        "n_samp = 100\n",
        "alp = 1\n",
        "\n",
        "# Set the mu and lambda_values\n",
        "mu_values = np.arange(0.0, 0.1, 0.02)\n",
        "lambda_values = np.arange(0.1, 0.5, 0.05)\n",
        "\n",
        "# Initialize the result array\n",
        "results = np.zeros((len(mu_values), len(lambda_values)))\n",
        "\n",
        "# Iterate over mu and lambda values\n",
        "for i, mu in enumerate(mu_values):\n",
        "    for j, lam in enumerate(lambda_values):\n",
        "        rho_R_av, t_end_av = rumor_hyperedge_2(H7, degrees7, mu, lam, alp, n_samp)\n",
        "        results[i, j] = rho_R_av\n",
        "        print(\"Average result -- \", \"mu:\", mu, \"lam:\", lam, \"stifler_frac:\", rho_R_av)\n",
        "\n",
        "import matplotlib.ticker as ticker\n",
        "\n",
        "# Plot the heat map\n",
        "fig, ax = plt.subplots(figsize=(8, 6))\n",
        "heatmap = ax.imshow(results, cmap='YlGnBu', interpolation='nearest')\n",
        "\n",
        "# Set the tick labels and show colorbar\n",
        "ax.set_xticks(np.arange(len(lambda_values)))\n",
        "ax.set_yticks(np.arange(len(mu_values)))\n",
        "\n",
        "# Format the tick labels with two decimal places using string formatting\n",
        "lambda_formatter = ticker.StrMethodFormatter('{:.2f}'.format)\n",
        "mu_formatter = ticker.StrMethodFormatter('{:.2f}'.format)\n",
        "ax.xaxis.set_major_formatter(lambda_formatter)\n",
        "ax.yaxis.set_major_formatter(mu_formatter)\n",
        "#ax.invert_yaxis()\n",
        "\n",
        "ax.set_xticklabels(['{:.2f}'.format(val) for val in lambda_values])\n",
        "ax.set_yticklabels(['{:.2f}'.format(val) for val in mu_values])\n",
        "plt.xticks(rotation=45)\n",
        "plt.colorbar(heatmap)\n",
        "\n",
        "# Set labels and title\n",
        "ax.set_xlabel('Lambda')\n",
        "ax.set_ylabel('Mu')\n",
        "ax.set_title('Average Stifler Density Heatmap')\n",
        "\n",
        "# Display the heat map\n",
        "plt.show()"
      ],
      "metadata": {
        "id": "Key1-K24ZdrY"
      },
      "execution_count": null,
      "outputs": []
    }
  ]
}