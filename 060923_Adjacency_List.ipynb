{
  "nbformat": 4,
  "nbformat_minor": 0,
  "metadata": {
    "colab": {
      "provenance": [],
      "authorship_tag": "ABX9TyO2BfKJWFCXNMo13zZrREXA",
      "include_colab_link": true
    },
    "kernelspec": {
      "name": "python3",
      "display_name": "Python 3"
    },
    "language_info": {
      "name": "python"
    }
  },
  "cells": [
    {
      "cell_type": "markdown",
      "metadata": {
        "id": "view-in-github",
        "colab_type": "text"
      },
      "source": [
        "<a href=\"https://colab.research.google.com/github/Nancy-Shi/Complex_Networks/blob/main/060923_Adjacency_List.ipynb\" target=\"_parent\"><img src=\"https://colab.research.google.com/assets/colab-badge.svg\" alt=\"Open In Colab\"/></a>"
      ]
    },
    {
      "cell_type": "markdown",
      "source": [
        "Import the libraries needed to construct the network and to plot the graph. "
      ],
      "metadata": {
        "id": "f4GJJNvwI3vN"
      }
    },
    {
      "cell_type": "code",
      "source": [
        "import networkx as nx\n",
        "import matplotlib.pyplot as plt"
      ],
      "metadata": {
        "id": "CiemYIHTHuFO"
      },
      "execution_count": 8,
      "outputs": []
    },
    {
      "cell_type": "markdown",
      "source": [
        "In the following function **build_adjacency_list**, each node is followed by its corresponding neighbors. The index list shows the starting position of each node's neighbors in the neighbor list."
      ],
      "metadata": {
        "id": "ykZNz4u0HYh1"
      }
    },
    {
      "cell_type": "code",
      "execution_count": 13,
      "metadata": {
        "id": "R7mBVYr_HVJ2"
      },
      "outputs": [],
      "source": [
        "def build_adjacency_list(edges):\n",
        "    G = nx.Graph()\n",
        "    G.add_edges_from(edges)\n",
        "\n",
        "    adjacency_list = {}\n",
        "    index_list = {}\n",
        "    neighbor_list = []\n",
        "\n",
        "    index = 0\n",
        "    for node in G.nodes():\n",
        "        neighbors = list(G.neighbors(node))\n",
        "        adjacency_list[node] = neighbors\n",
        "        neighbor_list.extend(neighbors)\n",
        "\n",
        "        # Create index list with the node and its starting position\n",
        "        index_list[node] = index\n",
        "        index += len(neighbors)\n",
        "\n",
        "    return adjacency_list, index_list, neighbor_list\n",
        "\n",
        "def print_adjacency_list(edges):\n",
        "    adj_list, index_list, neighbor_list = build_adjacency_list(edges)\n",
        "\n",
        "    print(\"Adjacency List:\")\n",
        "    for node, neighbors in adj_list.items():\n",
        "      print(f\"Node {node}: {neighbors}\")\n",
        "\n",
        "    print(\"\\nIndex List:\")\n",
        "    for node, start_index in index_list.items():\n",
        "      print(f\"{node}: {start_index}\")\n",
        "\n",
        "    print(\"\\nNeighbor List:\")\n",
        "    print(neighbor_list)"
      ]
    },
    {
      "cell_type": "code",
      "source": [
        "edges = [(1, 2), (1, 3), (1, 4), (2, 3), (3, 5), (3, 4)]\n",
        "\n",
        "print_adjacency_list(edges)"
      ],
      "metadata": {
        "colab": {
          "base_uri": "https://localhost:8080/"
        },
        "id": "Lop3ENCGHXpf",
        "outputId": "d330594b-797b-4ac5-e4f0-2a583e0f3e4b"
      },
      "execution_count": 14,
      "outputs": [
        {
          "output_type": "stream",
          "name": "stdout",
          "text": [
            "Adjacency List:\n",
            "Node 1: [2, 3, 4]\n",
            "Node 2: [1, 3]\n",
            "Node 3: [1, 2, 5, 4]\n",
            "Node 4: [1, 3]\n",
            "Node 5: [3]\n",
            "\n",
            "Index List:\n",
            "1: 0\n",
            "2: 3\n",
            "3: 5\n",
            "4: 9\n",
            "5: 11\n",
            "\n",
            "Neighbor List:\n",
            "[2, 3, 4, 1, 3, 1, 2, 5, 4, 1, 3, 3]\n"
          ]
        }
      ]
    },
    {
      "cell_type": "markdown",
      "source": [
        "This following code defines a **draw_graph** function that takes the list of edges as input. It creates a NetworkX graph G and adds the edges to it. "
      ],
      "metadata": {
        "id": "KRRHyKPDJkhU"
      }
    },
    {
      "cell_type": "code",
      "source": [
        "def draw_graph(edges):\n",
        "    G = nx.Graph()\n",
        "    G.add_edges_from(edges)\n",
        "\n",
        "    nx.draw(G, with_labels=True, node_color='lightblue', node_size=500, edge_color='grey', width=2.0)\n",
        "    plt.show()\n",
        "\n",
        "# Test:\n",
        "edges = [(1, 2), (1, 3), (1, 4), (2, 3), (3, 5), (3, 4)]\n",
        "draw_graph(edges)"
      ],
      "metadata": {
        "colab": {
          "base_uri": "https://localhost:8080/",
          "height": 516
        },
        "id": "7ZmZWqVtIlPS",
        "outputId": "db4f449d-58d3-4075-b393-5f6a66937fad"
      },
      "execution_count": 15,
      "outputs": [
        {
          "output_type": "display_data",
          "data": {
            "text/plain": [
              "<Figure size 640x480 with 1 Axes>"
            ],
            "image/png": "[encoded data removed]"
          },
          "metadata": {}
        }
      ]
    }
  ]
}