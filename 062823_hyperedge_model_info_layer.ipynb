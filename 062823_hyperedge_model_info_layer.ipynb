{
  "nbformat": 4,
  "nbformat_minor": 0,
  "metadata": {
    "colab": {
      "provenance": [],
      "authorship_tag": "ABX9TyP/Z7VlPve0KHWpXBBqReYT",
      "include_colab_link": true
    },
    "kernelspec": {
      "name": "python3",
      "display_name": "Python 3"
    },
    "language_info": {
      "name": "python"
    }
  },
  "cells": [
    {
      "cell_type": "markdown",
      "metadata": {
        "id": "view-in-github",
        "colab_type": "text"
      },
      "source": [
        "<a href=\"https://colab.research.google.com/github/Nancy-Shi/Complex_Networks/blob/main/062823_hyperedge_model_info_layer.ipynb\" target=\"_parent\"><img src=\"https://colab.research.google.com/assets/colab-badge.svg\" alt=\"Open In Colab\"/></a>"
      ]
    },
    {
      "cell_type": "code",
      "execution_count": null,
      "metadata": {
        "id": "BMGE9CkHc476"
      },
      "outputs": [],
      "source": [
        "import numpy as np\n",
        "import matplotlib.pyplot as plt\n",
        "import networkx as nx\n",
        "import random\n",
        "import math as math\n",
        "from math import log"
      ]
    },
    {
      "cell_type": "code",
      "source": [
        "from google.colab import drive\n",
        "drive.mount('/content/drive',force_remount=True)"
      ],
      "metadata": {
        "colab": {
          "base_uri": "https://localhost:8080/"
        },
        "id": "HCwI7VKhc55u",
        "outputId": "94487b6f-4287-4dd3-e937-5e9d2c6baf97"
      },
      "execution_count": null,
      "outputs": [
        {
          "output_type": "stream",
          "name": "stdout",
          "text": [
            "Mounted at /content/drive\n"
          ]
        }
      ]
    },
    {
      "cell_type": "code",
      "source": [
        "def deg_seq_hyperedge_seq(n_nodes, gamma, kmin, n_groups):\n",
        "    \"\"\"\n",
        "    input: number of nodes, power-law degree distribution exponent,\n",
        "           minimum degree, number of hyperedge groups\n",
        "    method: create a degree sequence, sum all degrees\n",
        "            then distribute the degrees randomly among\n",
        "            the number of hyperedges given, the hyperedges list\n",
        "            should contain how many items each hyperedge connects\n",
        "    output: a degree sequence,\n",
        "            a hyperedge sequence which is how many nodes each hyperedge group contains.\n",
        "    \"\"\"\n",
        "\n",
        "    # Generate a random set from the power law distribution\n",
        "    u = np.random.uniform(size=n_nodes)\n",
        "    degrees = np.ceil((1.0 - u) ** (-1.0 / (gamma - 1.0)))\n",
        "\n",
        "    # Adjust degrees based on the minimum and maximum degree values\n",
        "    kmax = int(((gamma-1)/(gamma-2) * n_nodes )** (1/gamma))  # max degree\n",
        "    degrees = degrees[(degrees >= kmin) & (degrees <= kmax)].astype(int)\n",
        "\n",
        "    # Truncate or pad the sequence to match the length specified\n",
        "    if len(degrees) >= n_nodes:\n",
        "        degrees = degrees[:n_nodes]\n",
        "    else:\n",
        "        degrees = np.concatenate((degrees, np.full(n_nodes - len(degrees), kmin)))\n",
        "\n",
        "    # Sum all degrees\n",
        "    total_degrees = np.sum(degrees)\n",
        "\n",
        "    # Calculate the average number of items per hyperedge\n",
        "    avg_items_per_hyperedge = total_degrees // n_groups\n",
        "\n",
        "    # Generate the hyperedge sequence\n",
        "    hyperedge_sequence = []\n",
        "    remaining_degrees = total_degrees\n",
        "\n",
        "    for _ in range(n_groups - 1):\n",
        "        if remaining_degrees <= 0:\n",
        "            hyperedge_sequence.append(0)\n",
        "        else:\n",
        "            items = np.random.randint(kmin, min(remaining_degrees, avg_items_per_hyperedge) + 1)\n",
        "            hyperedge_sequence.append(items)\n",
        "            remaining_degrees -= items\n",
        "\n",
        "    # The last hyperedge takes the remaining degrees\n",
        "    hyperedge_sequence.append(remaining_degrees)\n",
        "\n",
        "    return degrees.tolist(), hyperedge_sequence\n"
      ],
      "metadata": {
        "id": "hApHvjjOf6VQ"
      },
      "execution_count": null,
      "outputs": []
    },
    {
      "cell_type": "code",
      "source": [
        "# Example usage\n",
        "n_nodes = 1000\n",
        "gamma = 4\n",
        "kmin = 3\n",
        "n_groups = 60\n",
        "\n",
        "degree_sequence, hyperedge_sequence = deg_seq_hyperedge_seq(n_nodes, gamma, kmin, n_groups)\n",
        "\n",
        "print(\"Degree Sequence:\", degree_sequence)\n",
        "print(\"Hyperedge Sequence:\", hyperedge_sequence)\n"
      ],
      "metadata": {
        "colab": {
          "base_uri": "https://localhost:8080/"
        },
        "id": "035QbCpUEz69",
        "outputId": "26f25ce7-49f1-4a31-ad9d-0df15768a834"
      },
      "execution_count": null,
      "outputs": [
        {
          "output_type": "stream",
          "name": "stdout",
          "text": [
            "Degree Sequence: [3, 3, 3, 4, 3, 3, 4, 3, 4, 3, 3, 3, 3, 3, 3, 4, 3, 3, 3, 3, 3, 3, 3, 4, 3, 3, 3, 3, 4, 3, 3, 3, 4, 4, 3, 3, 3, 3, 5, 3, 3, 3, 3, 3, 3, 3, 3, 3, 3, 4, 3, 3, 3, 4, 3, 3, 6, 3, 3, 4, 3, 3, 3, 4, 3, 4, 3, 3, 3, 3, 3, 4, 3, 3, 4, 3, 4, 3, 3, 3, 4, 4, 4, 3, 3, 6, 3, 3, 3, 3, 3, 3, 3, 3, 3, 4, 3, 3, 3, 3, 3, 4, 5, 5, 3, 3, 3, 3, 3, 3, 5, 3, 3, 3, 3, 3, 4, 6, 6, 3, 3, 3, 3, 3, 3, 3, 3, 3, 3, 3, 3, 3, 3, 3, 3, 3, 3, 3, 3, 3, 3, 3, 3, 3, 3, 3, 3, 3, 3, 3, 3, 3, 3, 3, 3, 3, 3, 3, 3, 3, 3, 3, 3, 3, 3, 3, 3, 3, 3, 3, 3, 3, 3, 3, 3, 3, 3, 3, 3, 3, 3, 3, 3, 3, 3, 3, 3, 3, 3, 3, 3, 3, 3, 3, 3, 3, 3, 3, 3, 3, 3, 3, 3, 3, 3, 3, 3, 3, 3, 3, 3, 3, 3, 3, 3, 3, 3, 3, 3, 3, 3, 3, 3, 3, 3, 3, 3, 3, 3, 3, 3, 3, 3, 3, 3, 3, 3, 3, 3, 3, 3, 3, 3, 3, 3, 3, 3, 3, 3, 3, 3, 3, 3, 3, 3, 3, 3, 3, 3, 3, 3, 3, 3, 3, 3, 3, 3, 3, 3, 3, 3, 3, 3, 3, 3, 3, 3, 3, 3, 3, 3, 3, 3, 3, 3, 3, 3, 3, 3, 3, 3, 3, 3, 3, 3, 3, 3, 3, 3, 3, 3, 3, 3, 3, 3, 3, 3, 3, 3, 3, 3, 3, 3, 3, 3, 3, 3, 3, 3, 3, 3, 3, 3, 3, 3, 3, 3, 3, 3, 3, 3, 3, 3, 3, 3, 3, 3, 3, 3, 3, 3, 3, 3, 3, 3, 3, 3, 3, 3, 3, 3, 3, 3, 3, 3, 3, 3, 3, 3, 3, 3, 3, 3, 3, 3, 3, 3, 3, 3, 3, 3, 3, 3, 3, 3, 3, 3, 3, 3, 3, 3, 3, 3, 3, 3, 3, 3, 3, 3, 3, 3, 3, 3, 3, 3, 3, 3, 3, 3, 3, 3, 3, 3, 3, 3, 3, 3, 3, 3, 3, 3, 3, 3, 3, 3, 3, 3, 3, 3, 3, 3, 3, 3, 3, 3, 3, 3, 3, 3, 3, 3, 3, 3, 3, 3, 3, 3, 3, 3, 3, 3, 3, 3, 3, 3, 3, 3, 3, 3, 3, 3, 3, 3, 3, 3, 3, 3, 3, 3, 3, 3, 3, 3, 3, 3, 3, 3, 3, 3, 3, 3, 3, 3, 3, 3, 3, 3, 3, 3, 3, 3, 3, 3, 3, 3, 3, 3, 3, 3, 3, 3, 3, 3, 3, 3, 3, 3, 3, 3, 3, 3, 3, 3, 3, 3, 3, 3, 3, 3, 3, 3, 3, 3, 3, 3, 3, 3, 3, 3, 3, 3, 3, 3, 3, 3, 3, 3, 3, 3, 3, 3, 3, 3, 3, 3, 3, 3, 3, 3, 3, 3, 3, 3, 3, 3, 3, 3, 3, 3, 3, 3, 3, 3, 3, 3, 3, 3, 3, 3, 3, 3, 3, 3, 3, 3, 3, 3, 3, 3, 3, 3, 3, 3, 3, 3, 3, 3, 3, 3, 3, 3, 3, 3, 3, 3, 3, 3, 3, 3, 3, 3, 3, 3, 3, 3, 3, 3, 3, 3, 3, 3, 3, 3, 3, 3, 3, 3, 3, 3, 3, 3, 3, 3, 3, 3, 3, 3, 3, 3, 3, 3, 3, 3, 3, 3, 3, 3, 3, 3, 3, 3, 3, 3, 3, 3, 3, 3, 3, 3, 3, 3, 3, 3, 3, 3, 3, 3, 3, 3, 3, 3, 3, 3, 3, 3, 3, 3, 3, 3, 3, 3, 3, 3, 3, 3, 3, 3, 3, 3, 3, 3, 3, 3, 3, 3, 3, 3, 3, 3, 3, 3, 3, 3, 3, 3, 3, 3, 3, 3, 3, 3, 3, 3, 3, 3, 3, 3, 3, 3, 3, 3, 3, 3, 3, 3, 3, 3, 3, 3, 3, 3, 3, 3, 3, 3, 3, 3, 3, 3, 3, 3, 3, 3, 3, 3, 3, 3, 3, 3, 3, 3, 3, 3, 3, 3, 3, 3, 3, 3, 3, 3, 3, 3, 3, 3, 3, 3, 3, 3, 3, 3, 3, 3, 3, 3, 3, 3, 3, 3, 3, 3, 3, 3, 3, 3, 3, 3, 3, 3, 3, 3, 3, 3, 3, 3, 3, 3, 3, 3, 3, 3, 3, 3, 3, 3, 3, 3, 3, 3, 3, 3, 3, 3, 3, 3, 3, 3, 3, 3, 3, 3, 3, 3, 3, 3, 3, 3, 3, 3, 3, 3, 3, 3, 3, 3, 3, 3, 3, 3, 3, 3, 3, 3, 3, 3, 3, 3, 3, 3, 3, 3, 3, 3, 3, 3, 3, 3, 3, 3, 3, 3, 3, 3, 3, 3, 3, 3, 3, 3, 3, 3, 3, 3, 3, 3, 3, 3, 3, 3, 3, 3, 3, 3, 3, 3, 3, 3, 3, 3, 3, 3, 3, 3, 3, 3, 3, 3, 3, 3, 3, 3, 3, 3, 3, 3, 3, 3, 3, 3, 3, 3, 3, 3, 3, 3, 3, 3, 3, 3, 3, 3, 3, 3, 3, 3, 3, 3, 3, 3, 3, 3, 3, 3, 3, 3, 3, 3, 3, 3, 3, 3, 3, 3, 3, 3, 3, 3, 3, 3, 3, 3, 3, 3, 3, 3, 3, 3, 3, 3, 3, 3, 3, 3, 3, 3, 3, 3, 3, 3, 3, 3, 3, 3, 3, 3, 3, 3, 3, 3, 3, 3, 3, 3, 3, 3, 3, 3, 3, 3, 3, 3, 3, 3, 3, 3, 3, 3, 3, 3, 3, 3, 3, 3, 3, 3, 3, 3, 3, 3, 3, 3, 3, 3, 3, 3, 3, 3, 3, 3, 3]\n",
            "Hyperedge Sequence: [19, 21, 32, 20, 13, 30, 17, 13, 7, 4, 50, 7, 24, 47, 37, 47, 42, 23, 22, 30, 29, 12, 6, 13, 28, 45, 21, 22, 14, 34, 13, 14, 5, 35, 46, 45, 4, 12, 31, 7, 31, 25, 23, 31, 28, 26, 9, 33, 41, 41, 20, 31, 43, 27, 38, 7, 40, 39, 4, 1564]\n"
          ]
        }
      ]
    },
    {
      "cell_type": "code",
      "source": [
        "def hypergraph_bipartite_config(deg_list, hyperedge_list):\n",
        "    \"\"\"\n",
        "    input: generalized degree distribution P^A(k),\n",
        "           which is a list of degrees for nodes.\n",
        "           hyperedge order distribution P^B(k),\n",
        "           which is a list of hyperedge orders.\n",
        "    method: The two inputs are the two parts of a bipartite graph.\n",
        "            Make k_i copies of labels for node n_i according to the degree list.\n",
        "            Make o_i copies of labels for hyperedge e_i according to hyperedge order list.\n",
        "            Randomly link and match the labels for nodes and the labels for hyperedges\n",
        "            to create a hypergraph.\n",
        "    output: an adjacency list that has 3 lists:\n",
        "            - group_list: stores the group of nodes linked by the same hyperedge.\n",
        "            - count_list: contains the number of items connected by each hyperedge.\n",
        "            - index_list: records the starting position of each group.\n",
        "    \"\"\"\n",
        "\n",
        "    # Create a list of node labels based on the degree distribution\n",
        "    node_labels = []\n",
        "    for idx, degree in enumerate(deg_list):\n",
        "        node_labels.extend([idx] * degree)\n",
        "\n",
        "    # Create a list of hyperedge labels based on the hyperedge order distribution\n",
        "    hyperedge_labels = []\n",
        "    for idx, order in enumerate(hyperedge_list):\n",
        "        hyperedge_labels.extend([idx] * order)\n",
        "\n",
        "    # Shuffle the node and hyperedge labels\n",
        "    random.shuffle(node_labels)\n",
        "    random.shuffle(hyperedge_labels)\n",
        "\n",
        "    # Create the adjacency lists for the hypergraph\n",
        "    group_list = []\n",
        "    count_list = []\n",
        "    index_list = []\n",
        "\n",
        "    current_index = 0\n",
        "\n",
        "    for hyperedge in set(hyperedge_labels):\n",
        "        nodes = [node_labels[i] for i, label in enumerate(hyperedge_labels) if label == hyperedge]\n",
        "        group_list.append(nodes)\n",
        "        count_list.append(len(nodes))\n",
        "        index_list.append(current_index)\n",
        "        current_index += len(nodes)\n",
        "\n",
        "    return group_list, count_list, index_list\n"
      ],
      "metadata": {
        "id": "oobKxZp1dH-v"
      },
      "execution_count": null,
      "outputs": []
    },
    {
      "cell_type": "code",
      "source": [
        "# Example usage\n",
        "deg_list = [3,4,5,3,3]  # Example degree distribution for nodes\n",
        "hyperedge_list = [3, 2, 5, 4, 4]  # Example hyperedge order distribution\n",
        "\n",
        "group_list, count_list, index_list = hypergraph_bipartite_config(deg_list, hyperedge_list)\n",
        "print(\"Group List:\", group_list)\n",
        "print(\"Count List:\", count_list)\n",
        "print(\"Index List:\", index_list)"
      ],
      "metadata": {
        "colab": {
          "base_uri": "https://localhost:8080/"
        },
        "id": "GoUDU94uA5xM",
        "outputId": "4fbaef04-9199-4d0a-9928-9e7e194b9948"
      },
      "execution_count": null,
      "outputs": [
        {
          "output_type": "stream",
          "name": "stdout",
          "text": [
            "Group List: [[2, 3, 1], [0, 2], [2, 2, 0, 3, 1], [0, 3, 4, 4], [4, 1, 2, 1]]\n",
            "Count List: [3, 2, 5, 4, 4]\n",
            "Index List: [0, 3, 5, 10, 14]\n"
          ]
        }
      ]
    },
    {
      "cell_type": "code",
      "source": [
        "import random\n",
        "import networkx as nx\n",
        "import matplotlib.pyplot as plt\n",
        "import numpy as np\n",
        "\n",
        "def hypergraph_bipartite_config_2(deg_list, hyperedge_list):\n",
        "    \"\"\"\n",
        "    input: generalized degree distribution P^A(k),\n",
        "           which is a list of degrees for nodes.\n",
        "           hyperedge order distribution P^B(k),\n",
        "           which is a list of hyperedge orders.\n",
        "    method: The two inputs are the two parts of a bipartite graph.\n",
        "            Make k_i copies of labels for node n_i according to the degree list.\n",
        "            Make o_i copies of labels for hyperedge e_i according to hyperedge order list.\n",
        "            Randomly link and match the labels for nodes and the labels for hyperedges\n",
        "            to create a hypergraph.\n",
        "    output: a NetworkX hypergraph object.\n",
        "    \"\"\"\n",
        "\n",
        "    # Create a list of node labels based on the degree distribution\n",
        "    node_labels = []\n",
        "    for idx, degree in enumerate(deg_list):\n",
        "        node_labels.extend([idx] * degree)\n",
        "\n",
        "    # Create a list of hyperedge labels based on the hyperedge order distribution\n",
        "    hyperedge_labels = []\n",
        "    for idx, order in enumerate(hyperedge_list):\n",
        "        hyperedge_labels.extend([idx] * order)\n",
        "\n",
        "    # Shuffle the node and hyperedge labels\n",
        "    random.shuffle(node_labels)\n",
        "    random.shuffle(hyperedge_labels)\n",
        "\n",
        "    # Create the hypergraph\n",
        "    hypergraph = nx.Graph()\n",
        "\n",
        "    for node, hyperedge in zip(node_labels, hyperedge_labels):\n",
        "        hypergraph.add_edge(node, hyperedge)\n",
        "\n",
        "    return hypergraph\n",
        "\n",
        "\n",
        "# Example usage\n",
        "deg_list = [3,4,5,3,3]  # Example degree distribution for nodes\n",
        "hyperedge_list = [3, 2, 5, 4, 4]  # Example hyperedge order distribution\n",
        "\n",
        "hypergraph = hypergraph_bipartite_config(deg_list, hyperedge_list)\n",
        "\n",
        "# Access hyperedge groups, number of items, and starting index\n",
        "group_list = nx.get_node_attributes(hypergraph, \"hyperedge\")\n",
        "count_list = [len(hypergraph[node]) for node in hypergraph.nodes]\n",
        "index_list = [0] + list(np.cumsum(count_list))\n",
        "\n",
        "# Plotting the hypergraph\n",
        "pos = nx.spring_layout(hypergraph)\n",
        "plt.figure(figsize=(10, 6))\n",
        "nx.draw_networkx_nodes(hypergraph, pos, nodelist=group_list.keys(), node_color='r', node_size=200)\n",
        "nx.draw_networkx_edges(hypergraph, pos, edgelist=hypergraph.edges, edge_color='b', width=1)\n",
        "nx.draw_networkx_labels(hypergraph, pos, font_color='w', font_size=10, font_weight='bold')\n",
        "plt.axis('off')\n",
        "plt.title('Hypergraph Visualization')\n",
        "plt.show()\n"
      ],
      "metadata": {
        "colab": {
          "base_uri": "https://localhost:8080/",
          "height": 521
        },
        "id": "--JJS69jF1Ht",
        "outputId": "f0edea04-aaa7-4a70-dff8-6313e5c762b4"
      },
      "execution_count": null,
      "outputs": [
        {
          "output_type": "display_data",
          "data": {
            "text/plain": [
              "<Figure size 1000x600 with 1 Axes>"
            ],
            "image/png": "[encoded data removed]"
          },
          "metadata": {}
        }
      ]
    }
  ]
}