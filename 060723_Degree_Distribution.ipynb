{
  "nbformat": 4,
  "nbformat_minor": 0,
  "metadata": {
    "colab": {
      "provenance": [],
      "authorship_tag": "ABX9TyMLmSz71kn5A4YMjWstu8DE",
      "include_colab_link": true
    },
    "kernelspec": {
      "name": "python3",
      "display_name": "Python 3"
    },
    "language_info": {
      "name": "python"
    }
  },
  "cells": [
    {
      "cell_type": "markdown",
      "metadata": {
        "id": "view-in-github",
        "colab_type": "text"
      },
      "source": [
        "<a href=\"https://colab.research.google.com/github/Nancy-Shi/Complex_Networks/blob/main/060723_Degree_Distribution.ipynb\" target=\"_parent\"><img src=\"https://colab.research.google.com/assets/colab-badge.svg\" alt=\"Open In Colab\"/></a>"
      ]
    },
    {
      "cell_type": "markdown",
      "source": [
        "**NetworkX** is a network analysis package in Python. https://networkx.org/documentation/stable/index.html \n",
        "\n",
        "\n",
        "> We will use it to explore how to build an adjacency list for a network and build corresponding functions to calculate network features such as degree distribution.\n",
        "\n"
      ],
      "metadata": {
        "id": "jErxAGwgPyXt"
      }
    },
    {
      "cell_type": "code",
      "source": [
        "import networkx as nx"
      ],
      "metadata": {
        "id": "eaMkDQG2PN6A"
      },
      "execution_count": 5,
      "outputs": []
    },
    {
      "cell_type": "markdown",
      "source": [
        "In the following function, **adjacency list** stores the \n",
        "neighbors of the nodes. Index list stores the nodes and their starting index of neighbors in the adjacency list. "
      ],
      "metadata": {
        "id": "B2c20vYIPTbM"
      }
    },
    {
      "cell_type": "code",
      "source": [
        "def build_adj_list(edges):\n",
        "    G = nx.Graph()\n",
        "    G.add_edges_from(edges)\n",
        "\n",
        "    adjacency_list = {}\n",
        "    index_list = {}\n",
        "\n",
        "    for node in G.nodes():\n",
        "        neighbors = list(G.neighbors(node))\n",
        "        adjacency_list[node] = neighbors\n",
        "\n",
        "        # Create index list for each node's neighbors\n",
        "        index_list[f'K_{node}'] = neighbors\n",
        "\n",
        "    return adjacency_list, index_list"
      ],
      "metadata": {
        "id": "6WLAFlbeJrnN"
      },
      "execution_count": 6,
      "outputs": []
    },
    {
      "cell_type": "code",
      "source": [
        "# Test:\n",
        "edges = [(1, 2), (1, 3), (1, 4), (2, 3), (3, 5), (3, 4)]\n",
        "adj_list, index_list = build_adj_list(edges)\n",
        "\n",
        "print(\"Adjacency List:\")\n",
        "for node, neighbors in adj_list.items():\n",
        "    print(f\"Node {node}: {neighbors}\")\n",
        "\n",
        "print(\"\\nIndex List:\")\n",
        "for node, neighbors in index_list.items():\n",
        "    print(f\"{node}: {neighbors}\")"
      ],
      "metadata": {
        "colab": {
          "base_uri": "https://localhost:8080/"
        },
        "id": "j1bBIHK2JuQq",
        "outputId": "9c681dcb-207a-4bc3-b418-b4230a65c847"
      },
      "execution_count": 7,
      "outputs": [
        {
          "output_type": "stream",
          "name": "stdout",
          "text": [
            "Adjacency List:\n",
            "Node 1: [2, 3, 4]\n",
            "Node 2: [1, 3]\n",
            "Node 3: [1, 2, 5, 4]\n",
            "Node 4: [1, 3]\n",
            "Node 5: [3]\n",
            "\n",
            "Index List:\n",
            "K_1: [2, 3, 4]\n",
            "K_2: [1, 3]\n",
            "K_3: [1, 2, 5, 4]\n",
            "K_4: [1, 3]\n",
            "K_5: [3]\n"
          ]
        }
      ]
    },
    {
      "cell_type": "code",
      "source": [
        "adj_list"
      ],
      "metadata": {
        "colab": {
          "base_uri": "https://localhost:8080/"
        },
        "id": "VAQqQ5iPLJGr",
        "outputId": "e00b96b1-3c1b-4b97-dfcc-5e727a844b30"
      },
      "execution_count": 8,
      "outputs": [
        {
          "output_type": "execute_result",
          "data": {
            "text/plain": [
              "{1: [2, 3, 4], 2: [1, 3], 3: [1, 2, 5, 4], 4: [1, 3], 5: [3]}"
            ]
          },
          "metadata": {},
          "execution_count": 8
        }
      ]
    },
    {
      "cell_type": "code",
      "source": [
        "import networkx as nx\n",
        "\n",
        "def build_adj_list_2(edges):\n",
        "    G = nx.Graph()\n",
        "    G.add_edges_from(edges)\n",
        "\n",
        "    adjacency_list = {}\n",
        "    index_list = {}\n",
        "\n",
        "    index = 0\n",
        "    for node in G.nodes():\n",
        "        neighbors = list(G.neighbors(node))\n",
        "        adjacency_list[node] = neighbors\n",
        "\n",
        "        # Create index list with the node and its starting position\n",
        "        index_list[node] = index\n",
        "        index += len(neighbors)\n",
        "\n",
        "    return adjacency_list, index_list\n",
        "\n",
        "def print_adj_list_2(edges):\n",
        "  adj_list, index_list = build_adj_list_2(edges)\n",
        "\n",
        "  print(\"Adjacency List:\")\n",
        "  for node, neighbors in adj_list.items():\n",
        "    print(f\"Node {node}: {neighbors}\")\n",
        "\n",
        "  (\"\\nIndex List:\")\n",
        "  for node, start_index in index_list.items():\n",
        "    print(f\"{node}: {start_index}\")"
      ],
      "metadata": {
        "id": "wRCApIa3L2sz"
      },
      "execution_count": 9,
      "outputs": []
    },
    {
      "cell_type": "code",
      "source": [
        "# Test:\n",
        "edges = [(1, 2), (1, 3), (1, 4), (2, 3), (3, 5), (3, 4)]\n",
        "adj_list, index_list = build_adj_list_2(edges)\n",
        "\n",
        "print(\"Adjacency List:\")\n",
        "for node, neighbors in adj_list.items():\n",
        "    print(f\"Node {node}: {neighbors}\")\n",
        "\n",
        "print(\"\\nIndex List:\")\n",
        "for node, start_index in index_list.items():\n",
        "    print(f\"{node}: {start_index}\")"
      ],
      "metadata": {
        "colab": {
          "base_uri": "https://localhost:8080/"
        },
        "id": "zn0YDf_qL7C9",
        "outputId": "41d1cad0-1983-4f82-9b21-6e9b75eae6ca"
      },
      "execution_count": 10,
      "outputs": [
        {
          "output_type": "stream",
          "name": "stdout",
          "text": [
            "Adjacency List:\n",
            "Node 1: [2, 3, 4]\n",
            "Node 2: [1, 3]\n",
            "Node 3: [1, 2, 5, 4]\n",
            "Node 4: [1, 3]\n",
            "Node 5: [3]\n",
            "\n",
            "Index List:\n",
            "1: 0\n",
            "2: 3\n",
            "3: 5\n",
            "4: 9\n",
            "5: 11\n"
          ]
        }
      ]
    },
    {
      "cell_type": "code",
      "source": [
        "adj_list"
      ],
      "metadata": {
        "colab": {
          "base_uri": "https://localhost:8080/"
        },
        "id": "gFmjxIe6MPAG",
        "outputId": "8de67e60-2ced-482d-ee2e-0eaee597d88d"
      },
      "execution_count": 11,
      "outputs": [
        {
          "output_type": "execute_result",
          "data": {
            "text/plain": [
              "{1: [2, 3, 4], 2: [1, 3], 3: [1, 2, 5, 4], 4: [1, 3], 5: [3]}"
            ]
          },
          "metadata": {},
          "execution_count": 11
        }
      ]
    },
    {
      "cell_type": "code",
      "source": [
        "index_list"
      ],
      "metadata": {
        "colab": {
          "base_uri": "https://localhost:8080/"
        },
        "id": "aqGTAwkfMWyT",
        "outputId": "bb687f0f-3f8f-4aea-8a30-38ec9a0c9a88"
      },
      "execution_count": 12,
      "outputs": [
        {
          "output_type": "execute_result",
          "data": {
            "text/plain": [
              "{1: 0, 2: 3, 3: 5, 4: 9, 5: 11}"
            ]
          },
          "metadata": {},
          "execution_count": 12
        }
      ]
    },
    {
      "cell_type": "code",
      "source": [
        "edges2 = [(1,2),(1,3),(1,4),(1,5), (2,3),(3,4),(4,5),(4,6),(6,7),(2,8)]\n",
        "print_adj_list_2(edges2)"
      ],
      "metadata": {
        "colab": {
          "base_uri": "https://localhost:8080/"
        },
        "id": "5qsOqvbeWwc8",
        "outputId": "104ceb47-1a6f-4e02-e65e-4b4957bd5e05"
      },
      "execution_count": 13,
      "outputs": [
        {
          "output_type": "stream",
          "name": "stdout",
          "text": [
            "Adjacency List:\n",
            "Node 1: [2, 3, 4, 5]\n",
            "Node 2: [1, 3, 8]\n",
            "Node 3: [1, 2, 4]\n",
            "Node 4: [1, 3, 5, 6]\n",
            "Node 5: [1, 4]\n",
            "Node 6: [4, 7]\n",
            "Node 7: [6]\n",
            "Node 8: [2]\n",
            "1: 0\n",
            "2: 4\n",
            "3: 7\n",
            "4: 10\n",
            "5: 14\n",
            "6: 16\n",
            "7: 18\n",
            "8: 19\n"
          ]
        }
      ]
    },
    {
      "cell_type": "code",
      "source": [
        "G3 = nx.Graph()\n",
        "G3.add_edges_from(edges2)\n",
        "nx.draw(G3, with_labels=True, font_weight='bold')"
      ],
      "metadata": {
        "colab": {
          "base_uri": "https://localhost:8080/",
          "height": 516
        },
        "id": "kM_ngVlCXxpa",
        "outputId": "16f52e3e-8979-4812-efeb-de1209b5b300"
      },
      "execution_count": 14,
      "outputs": [
        {
          "output_type": "display_data",
          "data": {
            "text/plain": [
              "<Figure size 640x480 with 1 Axes>"
            ],
            "image/png": "[encoded data removed]"
          },
          "metadata": {}
        }
      ]
    },
    {
      "cell_type": "code",
      "source": [
        "G = nx.Graph()\n",
        "G.add_edges_from(edges)\n",
        "nx.draw(G, with_labels=True, font_weight='bold')"
      ],
      "metadata": {
        "colab": {
          "base_uri": "https://localhost:8080/",
          "height": 516
        },
        "id": "MzpePrwGM2j1",
        "outputId": "02d6af85-4c08-4072-de84-fc5ab203bf53"
      },
      "execution_count": 15,
      "outputs": [
        {
          "output_type": "display_data",
          "data": {
            "text/plain": [
              "<Figure size 640x480 with 1 Axes>"
            ],
            "image/png": "[encoded data removed]"
          },
          "metadata": {}
        }
      ]
    },
    {
      "cell_type": "markdown",
      "source": [
        "The **degree distribution** is the probability that a randomly chosen node has degree k: $$P(k)=\\frac{N_k}{N}.$$ $N_k$ denotes the number of nodes with degree $k$, while $N$ represents the size of the network. "
      ],
      "metadata": {
        "id": "rZTkmL4pOqK2"
      }
    },
    {
      "cell_type": "code",
      "source": [
        "def degree_distribution(adj_list, k):\n",
        "    N_k = 0\n",
        "    N = len(adj_list)\n",
        "    for node, neighbors in adj_list.items():\n",
        "        if len(neighbors) == k:\n",
        "            N_k += 1\n",
        "    return N_k / N"
      ],
      "metadata": {
        "id": "Op75g-EiOX0F"
      },
      "execution_count": 16,
      "outputs": []
    },
    {
      "cell_type": "code",
      "source": [
        "def summarize_degree_dist(edges):\n",
        "  adj_list, index_list = build_adj_list(edges)\n",
        "\n",
        "  for k in range(0, len(adj_list)+1):\n",
        "    deg_dist = degree_distribution(adj_list, k)\n",
        "    print(f\"Degree distribution of P({k}) is {deg_dist}.\")"
      ],
      "metadata": {
        "id": "YwRZLMzAsI3s"
      },
      "execution_count": 17,
      "outputs": []
    },
    {
      "cell_type": "code",
      "source": [
        "# Test 1:\n",
        "edges1 = [(1, 2), (1, 3), (1, 4), (2, 3), (3, 5), (3, 4)]\n",
        "\n",
        "summarize_degree_dist(edges1)"
      ],
      "metadata": {
        "colab": {
          "base_uri": "https://localhost:8080/"
        },
        "id": "zGb69bzASOcC",
        "outputId": "4e686aa6-f631-4537-d976-febb8888a928"
      },
      "execution_count": 18,
      "outputs": [
        {
          "output_type": "stream",
          "name": "stdout",
          "text": [
            "Degree distribution of P(0) is 0.0.\n",
            "Degree distribution of P(1) is 0.2.\n",
            "Degree distribution of P(2) is 0.4.\n",
            "Degree distribution of P(3) is 0.2.\n",
            "Degree distribution of P(4) is 0.2.\n",
            "Degree distribution of P(5) is 0.0.\n"
          ]
        }
      ]
    },
    {
      "cell_type": "code",
      "source": [
        "import matplotlib.pyplot as plt\n",
        "import pandas as pd\n",
        "import numpy as np\n",
        "\n",
        "hist1 = nx.degree_histogram(G)\n",
        "    \n",
        "plt.plot(range(0, len(hist1)), hist1, \".\")\n",
        "plt.title(\"Degree Distribution\")\n",
        "plt.xlabel(\"Degree k\")\n",
        "plt.ylabel(\"Number of Nodes with Degree k\")\n",
        "#plt.loglog()\n",
        "plt.show()"
      ],
      "metadata": {
        "colab": {
          "base_uri": "https://localhost:8080/",
          "height": 472
        },
        "id": "lUyjJr1ukd6k",
        "outputId": "bfb64095-3235-4000-9043-ad5406da2c7d"
      },
      "execution_count": 19,
      "outputs": [
        {
          "output_type": "display_data",
          "data": {
            "text/plain": [
              "<Figure size 640x480 with 1 Axes>"
            ],
            "image/png": "[encoded data removed]"
          },
          "metadata": {}
        }
      ]
    },
    {
      "cell_type": "code",
      "source": [
        "summarize_degree_dist(edges2)"
      ],
      "metadata": {
        "colab": {
          "base_uri": "https://localhost:8080/"
        },
        "id": "-4O8y4ZvX7ex",
        "outputId": "302a5715-a85d-4412-eec9-b6ae8f9b5729"
      },
      "execution_count": 20,
      "outputs": [
        {
          "output_type": "stream",
          "name": "stdout",
          "text": [
            "Degree distribution of P(0) is 0.0.\n",
            "Degree distribution of P(1) is 0.25.\n",
            "Degree distribution of P(2) is 0.25.\n",
            "Degree distribution of P(3) is 0.25.\n",
            "Degree distribution of P(4) is 0.25.\n",
            "Degree distribution of P(5) is 0.0.\n",
            "Degree distribution of P(6) is 0.0.\n",
            "Degree distribution of P(7) is 0.0.\n",
            "Degree distribution of P(8) is 0.0.\n"
          ]
        }
      ]
    },
    {
      "cell_type": "code",
      "source": [
        "G2 = nx.Graph()\n",
        "G2.add_nodes_from([1, 2, 3, 4, 5, 6, 7, 8])\n",
        "G2.add_edges_from([(1, 2), (1, 4), (1, 8), (2, 3), (3, 4), (5, 7), (5, 8), (4, 8), (2, 6)])\n",
        "nx.draw(G2, with_labels=True, font_weight='bold')"
      ],
      "metadata": {
        "colab": {
          "base_uri": "https://localhost:8080/",
          "height": 516
        },
        "id": "45Em96kS-mhJ",
        "outputId": "799d56ec-6048-47c7-c14f-6b1961f0d709"
      },
      "execution_count": 21,
      "outputs": [
        {
          "output_type": "display_data",
          "data": {
            "text/plain": [
              "<Figure size 640x480 with 1 Axes>"
            ],
            "image/png": "[encoded data removed]"
          },
          "metadata": {}
        }
      ]
    },
    {
      "cell_type": "code",
      "source": [
        "hist2 = nx.degree_histogram(G2)\n",
        "    \n",
        "plt.plot(range(0, len(hist2)), hist2, \".\")\n",
        "plt.title(\"Degree Distribution\")\n",
        "plt.xlabel(\"Degree k\")\n",
        "plt.ylabel(\"Number of Nodes with Degree k\")\n",
        "#plt.loglog()\n",
        "plt.show()"
      ],
      "metadata": {
        "colab": {
          "base_uri": "https://localhost:8080/",
          "height": 472
        },
        "id": "8KOtANomlBTV",
        "outputId": "46af80c1-c1c9-4c62-8483-c79f5548918f"
      },
      "execution_count": 22,
      "outputs": [
        {
          "output_type": "display_data",
          "data": {
            "text/plain": [
              "<Figure size 640x480 with 1 Axes>"
            ],
            "image/png": "[encoded data removed]"
          },
          "metadata": {}
        }
      ]
    },
    {
      "cell_type": "code",
      "source": [
        "hist3 = nx.degree_histogram(G3)\n",
        "    \n",
        "plt.plot(range(0, len(hist3)), hist3, \".\")\n",
        "plt.title(\"Degree Distribution\")\n",
        "plt.xlabel(\"Degree k\")\n",
        "plt.ylabel(\"Number of Nodes with Degree k\")\n",
        "#plt.loglog()\n",
        "plt.show()"
      ],
      "metadata": {
        "colab": {
          "base_uri": "https://localhost:8080/",
          "height": 472
        },
        "id": "8GUTYF-8lTyB",
        "outputId": "bde32e2b-bca6-4cd2-e1a2-fa054707adab"
      },
      "execution_count": 23,
      "outputs": [
        {
          "output_type": "display_data",
          "data": {
            "text/plain": [
              "<Figure size 640x480 with 1 Axes>"
            ],
            "image/png": "[encoded data removed]"
          },
          "metadata": {}
        }
      ]
    },
    {
      "cell_type": "markdown",
      "source": [
        "**Path Length** \n",
        "Using the built-in algorithm and input, output nodes to compute the shortest path length\n",
        "\n",
        "Documentation: https://networkx.org/documentation/stable/reference/algorithms/generated/networkx.algorithms.shortest_paths.generic.shortest_path_length.html#:~:text=The%20length%20of%20the%20path,to%20flip%20the%20edge%20orientation."
      ],
      "metadata": {
        "id": "MI4Wx5vo7X_B"
      }
    },
    {
      "cell_type": "code",
      "source": [
        "nx.shortest_path_length(G, source=2, target=5, weight=None, method='dijkstra')"
      ],
      "metadata": {
        "colab": {
          "base_uri": "https://localhost:8080/"
        },
        "id": "2YsImDOe7Wxg",
        "outputId": "670f69f6-1d01-4c35-bd3f-aa8b5b6ae0fa"
      },
      "execution_count": 24,
      "outputs": [
        {
          "output_type": "execute_result",
          "data": {
            "text/plain": [
              "2"
            ]
          },
          "metadata": {},
          "execution_count": 24
        }
      ]
    },
    {
      "cell_type": "code",
      "source": [
        "nx.shortest_path_length(G2, source=7, target=6, weight=None, method='dijkstra')"
      ],
      "metadata": {
        "colab": {
          "base_uri": "https://localhost:8080/"
        },
        "id": "K9BZGxj5_GWT",
        "outputId": "3197e695-0b32-4120-8850-22b33a9bb27e"
      },
      "execution_count": 25,
      "outputs": [
        {
          "output_type": "execute_result",
          "data": {
            "text/plain": [
              "5"
            ]
          },
          "metadata": {},
          "execution_count": 25
        }
      ]
    },
    {
      "cell_type": "code",
      "source": [
        "nx.shortest_path_length(G2, source=3, target=5, weight=None, method='dijkstra')"
      ],
      "metadata": {
        "colab": {
          "base_uri": "https://localhost:8080/"
        },
        "id": "Fg_ARFj__OnX",
        "outputId": "c0165b2c-313f-4ce1-d697-afa6f0b88050"
      },
      "execution_count": 26,
      "outputs": [
        {
          "output_type": "execute_result",
          "data": {
            "text/plain": [
              "3"
            ]
          },
          "metadata": {},
          "execution_count": 26
        }
      ]
    },
    {
      "cell_type": "markdown",
      "source": [
        "**Degree Pearson Correlation** computes degree assortativity of graph.\n",
        "\n",
        "Documentation: https://networkx.org/documentation/stable/reference/algorithms/generated/networkx.algorithms.assortativity.degree_pearson_correlation_coefficient.html\n",
        "\n",
        "**Assortativity**\n",
        "Documentation: https://networkx.org/documentation/stable/reference/algorithms/assortativity.html"
      ],
      "metadata": {
        "id": "xKDQLoit_oL6"
      }
    },
    {
      "cell_type": "code",
      "source": [
        "r = nx.degree_pearson_correlation_coefficient(G)\n",
        "print(f\"{r:3.1f}\")"
      ],
      "metadata": {
        "colab": {
          "base_uri": "https://localhost:8080/"
        },
        "id": "ffySx5aH9vMJ",
        "outputId": "8ec95ac9-11f2-4cb9-d19c-8d937bc3b6ce"
      },
      "execution_count": 27,
      "outputs": [
        {
          "output_type": "stream",
          "name": "stdout",
          "text": [
            "-0.7\n"
          ]
        }
      ]
    },
    {
      "cell_type": "code",
      "source": [
        "r2 = nx.degree_pearson_correlation_coefficient(G2)\n",
        "print(f\"{r2:3.1f}\")"
      ],
      "metadata": {
        "colab": {
          "base_uri": "https://localhost:8080/"
        },
        "id": "2J5dyWll_dkS",
        "outputId": "7430c9e5-e46b-49ff-d20a-e2a620cd17fa"
      },
      "execution_count": 28,
      "outputs": [
        {
          "output_type": "stream",
          "name": "stdout",
          "text": [
            "0.1\n"
          ]
        }
      ]
    },
    {
      "cell_type": "code",
      "source": [
        "r3 = nx.degree_pearson_correlation_coefficient(G3)\n",
        "print(f\"{r3:3.1f}\")"
      ],
      "metadata": {
        "colab": {
          "base_uri": "https://localhost:8080/"
        },
        "id": "Ij8ENoODYDRK",
        "outputId": "3204d453-08ed-4305-b927-b75db8f89071"
      },
      "execution_count": 29,
      "outputs": [
        {
          "output_type": "stream",
          "name": "stdout",
          "text": [
            "0.0\n"
          ]
        }
      ]
    },
    {
      "cell_type": "code",
      "source": [
        "nx.average_neighbor_degree(G, source='out', target='out', weight=None)"
      ],
      "metadata": {
        "colab": {
          "base_uri": "https://localhost:8080/"
        },
        "id": "1fYjXOZVCyFQ",
        "outputId": "41110471-6a16-44df-e087-e7cda204f660"
      },
      "execution_count": 30,
      "outputs": [
        {
          "output_type": "execute_result",
          "data": {
            "text/plain": [
              "{1: 2.6666666666666665, 2: 3.5, 3: 2.0, 4: 3.5, 5: 4.0}"
            ]
          },
          "metadata": {},
          "execution_count": 30
        }
      ]
    },
    {
      "cell_type": "code",
      "source": [
        "nx.average_neighbor_degree(G2, source='out', target='out', weight=None)"
      ],
      "metadata": {
        "colab": {
          "base_uri": "https://localhost:8080/"
        },
        "id": "rCcq53VmYJlq",
        "outputId": "2ae55e27-6289-49ce-8955-6a82bfac7fcf"
      },
      "execution_count": 31,
      "outputs": [
        {
          "output_type": "execute_result",
          "data": {
            "text/plain": [
              "{1: 3.0,\n",
              " 2: 2.0,\n",
              " 3: 3.0,\n",
              " 4: 2.6666666666666665,\n",
              " 5: 2.0,\n",
              " 6: 3.0,\n",
              " 7: 2.0,\n",
              " 8: 2.6666666666666665}"
            ]
          },
          "metadata": {},
          "execution_count": 31
        }
      ]
    },
    {
      "cell_type": "code",
      "source": [
        "nx.average_neighbor_degree(G3, source='out', target='out', weight=None)"
      ],
      "metadata": {
        "colab": {
          "base_uri": "https://localhost:8080/"
        },
        "id": "izG0LbrwYPPD",
        "outputId": "18b19465-8373-49c3-aa11-2b413b093f61"
      },
      "execution_count": 32,
      "outputs": [
        {
          "output_type": "execute_result",
          "data": {
            "text/plain": [
              "{1: 3.0,\n",
              " 2: 2.6666666666666665,\n",
              " 3: 3.6666666666666665,\n",
              " 4: 2.75,\n",
              " 5: 4.0,\n",
              " 6: 2.5,\n",
              " 7: 2.0,\n",
              " 8: 3.0}"
            ]
          },
          "metadata": {},
          "execution_count": 32
        }
      ]
    },
    {
      "cell_type": "markdown",
      "source": [
        "The **$n$th moment** is $$<k^n>=\\sum k^n P(k).$$ "
      ],
      "metadata": {
        "id": "nv9uvCw8vSgk"
      }
    },
    {
      "cell_type": "code",
      "source": [
        "def n_th_moment(graph, n):\n",
        "  sum = 0\n",
        "  for nodes in graph.nodes: \n",
        "    sum += graph.degree[node] ** n \n",
        "  return (sum/len(graph))"
      ],
      "metadata": {
        "id": "0Vwo1LH4EZyp"
      },
      "execution_count": 33,
      "outputs": []
    },
    {
      "cell_type": "code",
      "source": [
        "n_th_moment(G2, 1)"
      ],
      "metadata": {
        "colab": {
          "base_uri": "https://localhost:8080/"
        },
        "id": "DF_eUNlEJhYT",
        "outputId": "2578b885-67ea-460d-e489-3ccab30c6296"
      },
      "execution_count": 34,
      "outputs": [
        {
          "output_type": "execute_result",
          "data": {
            "text/plain": [
              "2.0"
            ]
          },
          "metadata": {},
          "execution_count": 34
        }
      ]
    },
    {
      "cell_type": "code",
      "source": [
        "n_th_moment(G2, 2)"
      ],
      "metadata": {
        "colab": {
          "base_uri": "https://localhost:8080/"
        },
        "id": "MvoKrcudJph9",
        "outputId": "33a9a25e-2cac-43c9-f350-dc9c72b5a5df"
      },
      "execution_count": 35,
      "outputs": [
        {
          "output_type": "execute_result",
          "data": {
            "text/plain": [
              "4.0"
            ]
          },
          "metadata": {},
          "execution_count": 35
        }
      ]
    }
  ]
}